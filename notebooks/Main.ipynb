{
 "cells": [
  {
   "cell_type": "markdown",
   "id": "611b27e4",
   "metadata": {},
   "source": [
    "# 1º) CONEXION SQL PARA BBDD PARADAS DE BICIS"
   ]
  },
  {
   "cell_type": "code",
   "execution_count": 1,
   "id": "b2504cf5",
   "metadata": {},
   "outputs": [
    {
     "data": {
      "text/plain": [
       "'1.4.32'"
      ]
     },
     "execution_count": 1,
     "metadata": {},
     "output_type": "execute_result"
    }
   ],
   "source": [
    "import sqlalchemy\n",
    "from sqlalchemy import create_engine\n",
    "from sqlalchemy import inspect\n",
    "import pandas as pd\n",
    "import requests\n",
    "import numpy as np\n",
    "from shapely.geometry import Point\n",
    "import geopandas as gpd\n",
    "\n",
    "sqlalchemy.__version__"
   ]
  },
  {
   "cell_type": "code",
   "execution_count": null,
   "id": "57754138",
   "metadata": {},
   "outputs": [],
   "source": [
    "#connection_string = 'mysql+pymysql://ironhack_user:%Vq=c>G5@173.201.189.217/BiciMAD'\n",
    "#connection_string"
   ]
  },
  {
   "cell_type": "code",
   "execution_count": null,
   "id": "51d5993a",
   "metadata": {},
   "outputs": [],
   "source": [
    "#engine = create_engine(connection_string)"
   ]
  },
  {
   "cell_type": "code",
   "execution_count": null,
   "id": "1256d19d",
   "metadata": {},
   "outputs": [],
   "source": [
    "#inspector = inspect(engine)\n",
    "#inspector.get_table_names()"
   ]
  },
  {
   "cell_type": "code",
   "execution_count": null,
   "id": "0fedc42a",
   "metadata": {},
   "outputs": [],
   "source": [
    "#df = pd.read_sql_query(\"SELECT * FROM bicimad_stations\", engine)\n",
    "#df"
   ]
  },
  {
   "cell_type": "code",
   "execution_count": null,
   "id": "d8007ba4",
   "metadata": {},
   "outputs": [],
   "source": [
    "url_csv_bic= '../datasets/bicimad_stations.csv'"
   ]
  },
  {
   "cell_type": "code",
   "execution_count": null,
   "id": "0ad535ac",
   "metadata": {},
   "outputs": [],
   "source": [
    "df = pd.read_csv(url_csv_bic, sep=',')"
   ]
  },
  {
   "cell_type": "code",
   "execution_count": null,
   "id": "6bd0d646",
   "metadata": {},
   "outputs": [],
   "source": [
    "df.head()"
   ]
  },
  {
   "cell_type": "code",
   "execution_count": null,
   "id": "d507aff5",
   "metadata": {
    "scrolled": true
   },
   "outputs": [],
   "source": [
    "#df con la información que necesitamos\n",
    "\n",
    "df_bic = df[['name', 'address', 'geometry.coordinates']]\n",
    "df_bic"
   ]
  },
  {
   "cell_type": "code",
   "execution_count": null,
   "id": "aec4fcfa",
   "metadata": {},
   "outputs": [],
   "source": [
    "df_bic[['location.longitude.bic', 'location.latitude.bic']]= df_bic['geometry.coordinates'].str.split(',', expand=True)"
   ]
  },
  {
   "cell_type": "code",
   "execution_count": null,
   "id": "37f4c979",
   "metadata": {
    "scrolled": true
   },
   "outputs": [],
   "source": [
    "df_bic['location.longitude.bic'] = df_bic['location.longitude.bic'].apply(lambda x: float(x[1:]))\n",
    "df_bic['location.latitude.bic'] = df_bic['location.latitude.bic'].apply(lambda x: float(x[:-1]))"
   ]
  },
  {
   "cell_type": "markdown",
   "id": "e56a31cc",
   "metadata": {},
   "source": [
    "### DF DEFINITIVO PARADAS DE BICIS = df_bic"
   ]
  },
  {
   "cell_type": "code",
   "execution_count": null,
   "id": "6ebec4aa",
   "metadata": {},
   "outputs": [],
   "source": [
    "df_bic = df_bic[['name', 'address', 'location.latitude.bic', 'location.longitude.bic']]\n",
    "df_bic"
   ]
  },
  {
   "cell_type": "markdown",
   "id": "7ed08f3f",
   "metadata": {},
   "source": [
    "# 2º) CONEXIÓN API MONUMENTOS DE MADRID"
   ]
  },
  {
   "cell_type": "code",
   "execution_count": null,
   "id": "8e72a022",
   "metadata": {},
   "outputs": [],
   "source": [
    "endpoint = 'https://datos.madrid.es/egob'\n",
    "url = '/catalogo/300356-0-monumentos-ciudad-madrid.json'\n",
    "response = requests.get(endpoint + url)\n",
    "#response\n",
    "#print(type(response))"
   ]
  },
  {
   "cell_type": "code",
   "execution_count": null,
   "id": "99803950",
   "metadata": {},
   "outputs": [],
   "source": [
    "status = response.status_code\n",
    "status"
   ]
  },
  {
   "cell_type": "code",
   "execution_count": null,
   "id": "0f6efa2f",
   "metadata": {},
   "outputs": [],
   "source": [
    "json_data = response.json()\n",
    "print(type(json_data['@graph']))\n",
    "#print(len(json_data))\n",
    "#json_data.keys()"
   ]
  },
  {
   "cell_type": "code",
   "execution_count": null,
   "id": "da4513c2",
   "metadata": {},
   "outputs": [],
   "source": [
    "df = pd.DataFrame(pd.json_normalize(json_data['@graph']))\n",
    "#df.head(5)"
   ]
  },
  {
   "cell_type": "code",
   "execution_count": null,
   "id": "35fea490",
   "metadata": {},
   "outputs": [],
   "source": [
    "#ojo que hay nulos en localizaciones que será clave para obtener luego la más cercana.\n",
    "\n",
    "dfm.info()"
   ]
  },
  {
   "cell_type": "code",
   "execution_count": null,
   "id": "3564e214",
   "metadata": {
    "scrolled": true
   },
   "outputs": [],
   "source": [
    "#Revisando los valores nulos de la tabla\n",
    "\n",
    "null_cols = dfm.isnull().sum()\n",
    "null_cols[null_cols > 0]"
   ]
  },
  {
   "cell_type": "markdown",
   "id": "94bb7dfd",
   "metadata": {},
   "source": [
    "### DF DEFINITIVO MONUMENTOS MADRID = df_monu"
   ]
  },
  {
   "cell_type": "code",
   "execution_count": null,
   "id": "0cfdcfa7",
   "metadata": {},
   "outputs": [],
   "source": [
    "# vamos a crear un df con las columnas e información que nos interesan eliminando todos aquellos destinos que no tengan\n",
    "# coordenadas.\n",
    "\n",
    "df_monu = dfm[['title', 'address.street-address', 'location.latitude' , 'location.longitude']]\n",
    "df_monu = df_monu.dropna()"
   ]
  },
  {
   "cell_type": "code",
   "execution_count": null,
   "id": "48053fef",
   "metadata": {},
   "outputs": [],
   "source": [
    "df_monu.info()"
   ]
  },
  {
   "cell_type": "markdown",
   "id": "64104a82",
   "metadata": {},
   "source": [
    "# 3º) DISTANCIA MENOR ENTRE PUNTOS"
   ]
  },
  {
   "cell_type": "markdown",
   "id": "3bf2583a",
   "metadata": {},
   "source": [
    "### Funciones facilitadas"
   ]
  },
  {
   "cell_type": "code",
   "execution_count": null,
   "id": "787d33d4",
   "metadata": {},
   "outputs": [],
   "source": [
    "from shapely.geometry import Point\n",
    "import geopandas as gpd   # conda install -c conda-forge geopandas"
   ]
  },
  {
   "cell_type": "code",
   "execution_count": null,
   "id": "cdae0a2f",
   "metadata": {},
   "outputs": [],
   "source": [
    "def to_mercator(lat, long):\n",
    "    # transform latitude/longitude data in degrees to pseudo-mercator coordinates in metres\n",
    "    c = gpd.GeoSeries([Point(lat, long)], crs=4326)\n",
    "    c = c.to_crs(3857)\n",
    "    return c\n",
    "\n",
    "def distance_meters(lat_start, long_start, lat_finish, long_finish):\n",
    "    # return the distance in metres between to latitude/longitude pair point in degrees (i.e.: 40.392436 / -3.6994487)\n",
    "    start = to_mercator(lat_start, long_start)\n",
    "    finish = to_mercator(lat_finish, long_finish)\n",
    "    return start.distance(finish)"
   ]
  },
  {
   "cell_type": "markdown",
   "id": "ef92e82f",
   "metadata": {},
   "source": [
    "### Test de las funciones"
   ]
  },
  {
   "cell_type": "code",
   "execution_count": null,
   "id": "addd6fea",
   "metadata": {},
   "outputs": [],
   "source": [
    "to_mercator(df_bic['location.latitude.bic'][0], df_bic['location.longitude.bic'][0])"
   ]
  },
  {
   "cell_type": "code",
   "execution_count": null,
   "id": "c7d5f7fa",
   "metadata": {},
   "outputs": [],
   "source": [
    "to_mercator(df_monu['location.latitude'][0], df_monu['location.longitude'][0])"
   ]
  },
  {
   "cell_type": "code",
   "execution_count": null,
   "id": "7eea85bd",
   "metadata": {},
   "outputs": [],
   "source": [
    "distance_meters(df_monu['location.latitude'][0], df_monu['location.longitude'][0], df_bic['location.latitude.bic'][0], df_bic['location.longitude.bic'][0])"
   ]
  },
  {
   "cell_type": "markdown",
   "id": "e6a4ed9f",
   "metadata": {},
   "source": [
    "### Magia"
   ]
  },
  {
   "cell_type": "code",
   "execution_count": null,
   "id": "95207703",
   "metadata": {
    "scrolled": true
   },
   "outputs": [],
   "source": [
    "%%time\n",
    "\n",
    "df_nuevo = df_monu.head(1)\n",
    "df_test = pd.concat([df_nuevo, df_bic], axis=1).ffill()\n",
    "df_test['Distancia'] = df_test.apply(lambda x: distance_meters(x['location.latitude'], x['location.longitude'], x['location.latitude.bic'], x['location.longitude.bic']), axis=1)\n",
    "zz = df_test.sort_values(by = 'Distancia')\n"
   ]
  },
  {
   "cell_type": "code",
   "execution_count": null,
   "id": "9ba455c6",
   "metadata": {},
   "outputs": [],
   "source": [
    "zz.head(5)"
   ]
  },
  {
   "cell_type": "code",
   "execution_count": null,
   "id": "a4e78133",
   "metadata": {},
   "outputs": [],
   "source": [
    "%%time\n",
    "\n",
    "df_nuevo = df_monu.head(2)\n",
    "df_test = pd.concat([df_nuevo, df_bic], axis=1).ffill()\n",
    "df_test['Distancia'] = df_test.apply(lambda x: distance_meters(x['location.latitude'], x['location.longitude'], x['location.latitude.bic'], x['location.longitude.bic']), axis=1)\n",
    "zz2 = df_test.sort_values(by = 'Distancia')"
   ]
  },
  {
   "cell_type": "code",
   "execution_count": null,
   "id": "4f9240a6",
   "metadata": {},
   "outputs": [],
   "source": [
    "zz2.head()"
   ]
  },
  {
   "cell_type": "code",
   "execution_count": null,
   "id": "c6e542d1",
   "metadata": {},
   "outputs": [],
   "source": [
    "df_bic['key'] = 0\n",
    "df_monu['key'] = 0"
   ]
  },
  {
   "cell_type": "code",
   "execution_count": null,
   "id": "d2e87be6",
   "metadata": {},
   "outputs": [],
   "source": [
    "df_pre = df_bic.merge(df_monu, on='key', how='left')#, lsuffix= '_1', rsuffix= '_2')"
   ]
  },
  {
   "cell_type": "code",
   "execution_count": null,
   "id": "065e80bf",
   "metadata": {},
   "outputs": [],
   "source": [
    "%%time\n",
    "\n",
    "#df_pre['Distancia'] = df_pre.apply(lambda x: distance_meters(x['location.latitude'], x['location.longitude'], \n",
    "                                                            # x['location.latitude.bic'], x['location.longitude.bic']), axis=1)"
   ]
  },
  {
   "cell_type": "code",
   "execution_count": null,
   "id": "8dcb031a",
   "metadata": {},
   "outputs": [],
   "source": [
    "#data = df_pre.to_csv('../datasets/df.csv', index=False)"
   ]
  },
  {
   "cell_type": "markdown",
   "id": "00ac9e8a",
   "metadata": {},
   "source": [
    "### Ya tenemos el DF_pre guardado"
   ]
  },
  {
   "cell_type": "code",
   "execution_count": null,
   "id": "e03961f6",
   "metadata": {},
   "outputs": [],
   "source": [
    "url_df_pre = '../datasets/df.csv'"
   ]
  },
  {
   "cell_type": "code",
   "execution_count": null,
   "id": "1ef6679a",
   "metadata": {},
   "outputs": [],
   "source": [
    "df_def = pd.read_csv(url_df_pre, sep=',')"
   ]
  },
  {
   "cell_type": "code",
   "execution_count": null,
   "id": "3856060a",
   "metadata": {},
   "outputs": [],
   "source": [
    "df_def.head()"
   ]
  },
  {
   "cell_type": "code",
   "execution_count": null,
   "id": "8a631694",
   "metadata": {},
   "outputs": [],
   "source": [
    "zz5 = df_def.sort_values(by = ['title', 'Distancia']).rename(columns={'title':'Place of Interest', \n",
    "                                                                      'address.street-address':'Place address',\n",
    "                                                                     'name':'BiciMAD station',\n",
    "                                                                      'address':'Station Location'})\n",
    "\n",
    "\n",
    "zz5['Type of place'] = np.nan\n",
    "zz5['Type of place'] = zz5['Type of place'].fillna('Monumento de la ciudad de Madrid')\n",
    "df_final = zz5[['Place of Interest', 'Type of place', 'Place address', 'BiciMAD station', 'Station Location']] #.info()\n",
    "df_final"
   ]
  },
  {
   "cell_type": "markdown",
   "id": "c4cf4d81",
   "metadata": {},
   "source": [
    "### Dataframe Final"
   ]
  },
  {
   "cell_type": "code",
   "execution_count": null,
   "id": "ac0a063c",
   "metadata": {},
   "outputs": [],
   "source": [
    "df_final['BiciMAD station'] = df_final['BiciMAD station'].apply(lambda x: x.split('-')[1])\n",
    "df_final"
   ]
  },
  {
   "cell_type": "code",
   "execution_count": null,
   "id": "f992233d",
   "metadata": {},
   "outputs": [],
   "source": [
    "df_final['Place of Interest'].unique()"
   ]
  },
  {
   "cell_type": "markdown",
   "id": "fe0e2779",
   "metadata": {},
   "source": [
    "### Opción 1 donde el usuario elige un punto de interés en concreto"
   ]
  },
  {
   "cell_type": "code",
   "execution_count": null,
   "id": "e6c0b714",
   "metadata": {},
   "outputs": [],
   "source": [
    "def select_point_of_interest(x, y): # en X entrará el nombre del punto de interés. La Y en número de estaciones cercanas.\n",
    "    is_poi = df_final.loc[:, 'Place of Interest'] == x # zz5 cambialo por el nombre de tu dataframe. El resto se puede quedar igual\n",
    "    df_poi = df_final.loc[is_poi]\n",
    "    df_poi = df_poi.reset_index(drop=True)\n",
    "    return df_poi.head(y) # si solo quieres el punto más cercano pon un 1 y sino 3 para los 3 más cercanos"
   ]
  },
  {
   "cell_type": "code",
   "execution_count": null,
   "id": "c4af4606",
   "metadata": {},
   "outputs": [],
   "source": [
    "select_point_of_interest('A las víctimas del Holocausto', 2)"
   ]
  },
  {
   "cell_type": "markdown",
   "id": "b2c5885c",
   "metadata": {},
   "source": [
    "### Opción 2 donde se muestran las estaciones más cercanas a cada punto de interés"
   ]
  },
  {
   "cell_type": "code",
   "execution_count": null,
   "id": "8cc0b3de",
   "metadata": {},
   "outputs": [],
   "source": [
    "test = df_final.loc[:, 'Place of Interest'] == 'A Neruda-El Ser alado'\n",
    "test1 = df_final.loc[test]\n",
    "test1 = test1.reset_index(drop=True)\n",
    "test1 = test1.head(0)\n",
    "test1"
   ]
  },
  {
   "cell_type": "code",
   "execution_count": null,
   "id": "efcc3ba7",
   "metadata": {},
   "outputs": [],
   "source": [
    "test_2 = df_final.loc[:, 'Place of Interest'] == 'A las víctimas del Holocausto'\n",
    "test2 = df_final.loc[test_2]\n",
    "test2 = test2.reset_index(drop=True)\n",
    "test2 = test2.head(1)\n",
    "test2"
   ]
  },
  {
   "cell_type": "code",
   "execution_count": null,
   "id": "577e69a0",
   "metadata": {
    "scrolled": false
   },
   "outputs": [],
   "source": [
    "ff = test1.append(test2, ignore_index=True)\n",
    "ff"
   ]
  },
  {
   "cell_type": "code",
   "execution_count": null,
   "id": "4d3d7470",
   "metadata": {},
   "outputs": [],
   "source": [
    "test_3 = df_final.loc[:, 'Place of Interest'] == 'A los Abuelos'\n",
    "test3 = df_final.loc[test_3]\n",
    "test3 = test3.reset_index(drop=True)\n",
    "test3 = test3.head(1)\n",
    "test3"
   ]
  },
  {
   "cell_type": "code",
   "execution_count": null,
   "id": "4d258753",
   "metadata": {},
   "outputs": [],
   "source": [
    "ff = ff.append(test3, ignore_index=True)\n",
    "ff"
   ]
  },
  {
   "cell_type": "code",
   "execution_count": null,
   "id": "0de2ebae",
   "metadata": {},
   "outputs": [],
   "source": [
    "poi_uniques = df_final['Place of Interest'].unique().tolist()\n",
    "#poi_uniques"
   ]
  },
  {
   "cell_type": "code",
   "execution_count": null,
   "id": "d9bd1ef7",
   "metadata": {},
   "outputs": [],
   "source": [
    "%%time\n",
    "\n",
    "for i in poi_uniques:\n",
    "    test_2 = df_final.loc[:, 'Place of Interest'] == i\n",
    "    test2 = df_final.loc[test_2]\n",
    "    test2 = test2.reset_index(drop=True)\n",
    "    test2 = test2.head(3)\n",
    "    test1 = test1.append(test2, ignore_index=True)\n",
    "test1.head()"
   ]
  },
  {
   "cell_type": "markdown",
   "id": "542b81b0",
   "metadata": {},
   "source": [
    "# 4º RESUMEN FINAL"
   ]
  },
  {
   "cell_type": "markdown",
   "id": "d3626dcc",
   "metadata": {},
   "source": [
    "## PIPELINE SECUENCIAL"
   ]
  },
  {
   "cell_type": "markdown",
   "id": "d2422745",
   "metadata": {},
   "source": [
    "### Conexción y manipulación de Data Frame final de bicis"
   ]
  },
  {
   "cell_type": "code",
   "execution_count": null,
   "id": "2eabb63a",
   "metadata": {},
   "outputs": [],
   "source": [
    "#ip #crear una función que le indique desde qué ip conectarse (clase=173.201.189.217 , casa=92.172.38.71)\n",
    "#connection_string = 'mysql+pymysql://ironhack_user:%Vq=c>G5@173.201.189.217/BiciMAD'\n",
    "#engine = create_engine(connection_string)\n",
    "#inspector = inspect(engine)\n",
    "#dfb = pd.read_sql_query(\"SELECT * FROM bicimad_stations\", engine)\n",
    "url_csv_bic= '../datasets/bicimad_stations.csv' # esto se tendría que desconectar si pudiéramos conectarnos en clase\n",
    "dfb = pd.read_csv(url_csv_bic, sep=',') # esto se tendría que desconectar si pudiéramos conectarnos en clase\n",
    "df_bic = dfb[['name', 'address', 'geometry.coordinates']]\n",
    "df_bic[['location.longitude.bic', 'location.latitude.bic']]= df_bic['geometry.coordinates'].str.split(',', expand=True)\n",
    "df_bic['location.longitude.bic'] = df_bic['location.longitude.bic'].apply(lambda x: float(x[1:]))\n",
    "df_bic['location.latitude.bic'] = df_bic['location.latitude.bic'].apply(lambda x: float(x[:-1]))\n",
    "df_bic = df_bic[['name', 'address', 'location.latitude.bic', 'location.longitude.bic']]"
   ]
  },
  {
   "cell_type": "markdown",
   "id": "f7e80f90",
   "metadata": {},
   "source": [
    "### Conexión y manipulación de Data Frame Monumentos de Madrid"
   ]
  },
  {
   "cell_type": "code",
   "execution_count": null,
   "id": "5647f4ce",
   "metadata": {},
   "outputs": [],
   "source": [
    "endpoint = 'https://datos.madrid.es/egob'\n",
    "url = '/catalogo/300356-0-monumentos-ciudad-madrid.json'\n",
    "response = requests.get(endpoint + url)\n",
    "json_data = response.json()\n",
    "dfm = pd.DataFrame(pd.json_normalize(json_data['@graph']))\n",
    "df_monu = dfm[['title', 'address.street-address', 'location.latitude' , 'location.longitude']]\n",
    "df_monu = df_monu.dropna()"
   ]
  },
  {
   "cell_type": "markdown",
   "id": "5749f82d",
   "metadata": {},
   "source": [
    "### Merge entre ambos DataFrames"
   ]
  },
  {
   "cell_type": "code",
   "execution_count": null,
   "id": "b2150c69",
   "metadata": {},
   "outputs": [],
   "source": [
    "df_bic['key'] = 0\n",
    "df_monu['key'] = 0\n",
    "df_pre = df_bic.merge(df_monu, on='key', how='left')"
   ]
  },
  {
   "cell_type": "markdown",
   "id": "fbae9834",
   "metadata": {},
   "source": [
    "### Aplicación de mercator a todos los valores posibles y creación de CSV Final para realizar las consultas"
   ]
  },
  {
   "cell_type": "code",
   "execution_count": null,
   "id": "26e84732",
   "metadata": {},
   "outputs": [],
   "source": [
    "#df_pre['Distancia'] = df_pre.apply(lambda x: distance_meters(x['location.latitude'], x['location.longitude'], \n",
    "                                                            # x['location.latitude.bic'], x['location.longitude.bic']), axis=1)\n",
    "#data = df_pre.to_csv('../datasets/df.csv', index=False)"
   ]
  },
  {
   "cell_type": "markdown",
   "id": "ac75de52",
   "metadata": {},
   "source": [
    "### Manipulación de Dataframe Final para la obtención de los resultados requeridos"
   ]
  },
  {
   "cell_type": "code",
   "execution_count": null,
   "id": "b056b47c",
   "metadata": {},
   "outputs": [],
   "source": [
    "url_df_pre = '../datasets/df.csv'\n",
    "df_def = pd.read_csv(url_df_pre, sep=',')\n",
    "zz5 = df_def.sort_values(by = ['title', 'Distancia']).rename(columns={'title':'Place of Interest', \n",
    "                                                                      'address.street-address':'Place address',\n",
    "                                                                     'name':'BiciMAD station',\n",
    "                                                                      'address':'Station Location'})\n",
    "zz5['Type of place'] = np.nan\n",
    "zz5['Type of place'] = zz5['Type of place'].fillna('Monumento de la ciudad de Madrid')\n",
    "df_final = zz5[['Place of Interest', 'Type of place', 'Place address', 'BiciMAD station', 'Station Location']]\n",
    "df_final['BiciMAD station'] = df_final['BiciMAD station'].apply(lambda x: x.split('-')[1])"
   ]
  },
  {
   "cell_type": "markdown",
   "id": "a9d0d53b",
   "metadata": {},
   "source": [
    "### Opción 1 donde el usuario indica un lugar de interés específico"
   ]
  },
  {
   "cell_type": "code",
   "execution_count": null,
   "id": "79147104",
   "metadata": {},
   "outputs": [],
   "source": [
    "is_poi = df_final.loc[:, 'Place of Interest'] == 'A los Abuelos'\n",
    "df_poi = df_final.loc[is_poi]\n",
    "df_poi = df_poi.reset_index(drop=True)\n",
    "df_poi.head(1)\n",
    "csv_poi = df_poi.head(1).to_csv('../datasets/specific_point_of_interest.csv', index=False)"
   ]
  },
  {
   "cell_type": "markdown",
   "id": "d302d7b7",
   "metadata": {},
   "source": [
    "### Opción 2 donde el usuario indica listado de todos los puntos de interés con su estación más cercana"
   ]
  },
  {
   "cell_type": "code",
   "execution_count": null,
   "id": "27f8ea17",
   "metadata": {},
   "outputs": [],
   "source": [
    "poi_uniques = df_final['Place of Interest'].unique().tolist()\n",
    "test = df_final.loc[:, 'Place of Interest'] == 'A Neruda-El Ser alado'\n",
    "test1 = df_final.loc[test]\n",
    "test1 = test1.reset_index(drop=True)\n",
    "test1 = test1.head(0)\n",
    "for i in poi_uniques:\n",
    "    test_2 = df_final.loc[:, 'Place of Interest'] == i\n",
    "    test2 = df_final.loc[test_2]\n",
    "    test2 = test2.reset_index(drop=True)\n",
    "    test2 = test2.head(1)\n",
    "    test1 = test1.append(test2, ignore_index=True)\n",
    "test1.head()\n",
    "csv_full = test1.to_csv('../datasets/all_points_of_interests.csv', index=False)"
   ]
  },
  {
   "cell_type": "markdown",
   "id": "000937fe",
   "metadata": {},
   "source": [
    "## PIPELINE FUNCIONAL"
   ]
  },
  {
   "cell_type": "markdown",
   "id": "68524ab9",
   "metadata": {},
   "source": [
    "### Acquisition"
   ]
  },
  {
   "cell_type": "code",
   "execution_count": null,
   "id": "d0226883",
   "metadata": {},
   "outputs": [],
   "source": [
    "#las dos opciones serían 'mysql' o 'csv' y se podría cambiar el path, query e ip (casa = '92.172.38.71')\n",
    "def connec_mysql(query=\"SELECT * FROM bicimad_stations\", ip='173.201.189.217', db='/BiciMAD', \n",
    "                 root='mysql+pymysql://ironhack_user:', pss='%Vq=c>G5@'): \n",
    "    connection_string = root+pss+ip+db\n",
    "    engine = create_engine(connection_string)\n",
    "    inspector = inspect(engine)\n",
    "    df = pd.read_sql_query(query, engine)\n",
    "    return df"
   ]
  },
  {
   "cell_type": "code",
   "execution_count": 2,
   "id": "2c10973e",
   "metadata": {},
   "outputs": [],
   "source": [
    "def connec_csv(path):\n",
    "    # función para únicamente tomar en formato csv la data sin tratar de una conexión a bbdd mysql\n",
    "    # para nuestro proyecto serían path='../datasets/bicimad_stations.csv' o '../datasets/df.csv' (renombrar el archivo a df_merged)\n",
    "    df = pd.read_csv(path, sep=',')\n",
    "    return df"
   ]
  },
  {
   "cell_type": "code",
   "execution_count": null,
   "id": "1c5fbdb5",
   "metadata": {},
   "outputs": [],
   "source": [
    "def connec_api_mad(endpoint = 'https://datos.madrid.es/egob', url = '/catalogo/300356-0-monumentos-ciudad-madrid.json'):    \n",
    "    response = requests.get(endpoint + url)\n",
    "    json_data = response.json()\n",
    "    df = pd.DataFrame(pd.json_normalize(json_data['@graph']))\n",
    "    return df"
   ]
  },
  {
   "cell_type": "markdown",
   "id": "4163ea18",
   "metadata": {},
   "source": [
    "### Manipulación de DF"
   ]
  },
  {
   "cell_type": "code",
   "execution_count": 3,
   "id": "98cae27a",
   "metadata": {},
   "outputs": [],
   "source": [
    "def selec_cols(df, cols=['name', 'address', 'geometry.coordinates']):\n",
    "    # realiza un slicing sobre un df en base a las colummnas\n",
    "    # para nuestro proyecto cols=['name', 'address', 'geometry.coordinates'] o \n",
    "    # cols=['title', 'address.street-address', 'location.latitude' , 'location.longitude']\n",
    "    # cols=['Place of Interest', 'Type of place', 'Place address', 'BiciMAD station', 'Station Location']\n",
    "    df = df[cols]\n",
    "    return df"
   ]
  },
  {
   "cell_type": "code",
   "execution_count": 4,
   "id": "6db608f8",
   "metadata": {},
   "outputs": [],
   "source": [
    "def dividir_col(df, create_cols=['location.longitude.bic', 'location.latitude.bic'], div_col='geometry.coordinates', s=','):\n",
    "    # función que reparte en dos columnas la data una columna que contiene listas de dos elementos convirtiéndolos en strings\n",
    "    df[create_cols]= df[div_col].str.split(s, expand=True)\n",
    "    return df "
   ]
  },
  {
   "cell_type": "code",
   "execution_count": 5,
   "id": "fa1cb58b",
   "metadata": {},
   "outputs": [],
   "source": [
    "def float_slicing(df, col, pos1=None, pos2=None):\n",
    "    # convierte string en float pudiendo hacer un slicing del elemento en esa posición.\n",
    "    # para nuestro proyecto tendríamos col='location.longitude.bic' o col='location.latitude.bic' y pos1=1 o pos2=-1\n",
    "    df[col] = df[col].apply(lambda x: float(x[pos1:pos2]))\n",
    "    return df"
   ]
  },
  {
   "cell_type": "code",
   "execution_count": null,
   "id": "b32a7b74",
   "metadata": {},
   "outputs": [],
   "source": [
    "def drop_na(df):\n",
    "    # función para eliminar todas las filas que contengan valores NaN\n",
    "    df = df.dropna()\n",
    "    return df"
   ]
  },
  {
   "cell_type": "code",
   "execution_count": null,
   "id": "1ec23050",
   "metadata": {},
   "outputs": [],
   "source": [
    "def sort_df (df, head=['title', 'Distancia'], order):\n",
    "    # función para ordenar un df en base a columnas y de manera ascendente o descendente con True o False en order.\n",
    "    df = df.sort_values(by = head, ascending=order)\n",
    "    return df"
   ]
  },
  {
   "cell_type": "code",
   "execution_count": null,
   "id": "e3cb6fd9",
   "metadata": {},
   "outputs": [],
   "source": [
    "def rename_col (df, keys, values):\n",
    "    # función que renombra tanta columnas como queramos siempre que el número de keys y values coincida\n",
    "    # para nuestro proyecto sería dict_from_list = {'title':'Place of Interest', 'address.street-address':'Place address',\n",
    "                                                    #'name':'BiciMAD station','address':'Station Location'}\n",
    "    key_list = list(keys)\n",
    "    value_list = list(values)\n",
    "    dict_from_list = dict(zip(key_list, value_list))\n",
    "    df = df.rename(columns=dict_from_list)\n",
    "    return df"
   ]
  },
  {
   "cell_type": "code",
   "execution_count": null,
   "id": "e4e5c275",
   "metadata": {},
   "outputs": [],
   "source": [
    "def newcol_values(df, new_col='Type of place', fill='Monumento de la ciudad de Madrid'):\n",
    "    # función que crea una nueva columna a la que se le asigna el mismo valor a todas las filas.\n",
    "    df[new_col] = np.nan\n",
    "    df[new_col] = df[new_col].fillna(fill)\n",
    "    return df"
   ]
  },
  {
   "cell_type": "code",
   "execution_count": null,
   "id": "9abdd666",
   "metadata": {},
   "outputs": [],
   "source": [
    "def split(df, col='BiciMAD station', sp='-', pos=1):\n",
    "    # función para realizar limpieza en un string de los valores de una columna, haciendo un split y slicing a guardar\n",
    "    df[col] = df[col].apply(lambda x: x.split(sp)[pos])\n",
    "    return df"
   ]
  },
  {
   "cell_type": "code",
   "execution_count": null,
   "id": "9859fbe7",
   "metadata": {},
   "outputs": [],
   "source": [
    "def merge_df(df_bic_an, df_monu_an, col='key'):\n",
    "    # función que crea una columan key con valores 0 en dos dataframes para poder realizar un merge\n",
    "    df_bic_an[col] = 0\n",
    "    df_monu_an[col] = 0\n",
    "    df = df_bic_an.merge(df_monu_an, on=col, how='left')\n",
    "    return df"
   ]
  },
  {
   "cell_type": "markdown",
   "id": "ed48da68",
   "metadata": {},
   "source": [
    "### Operaciones Aritméticas"
   ]
  },
  {
   "cell_type": "code",
   "execution_count": null,
   "id": "365592b1",
   "metadata": {},
   "outputs": [],
   "source": [
    "def to_mercator(lat, long):\n",
    "    # transform latitude/longitude data in degrees to pseudo-mercator coordinates in metres\n",
    "    c = gpd.GeoSeries([Point(lat, long)], crs=4326)\n",
    "    c = c.to_crs(3857)\n",
    "    return c\n",
    "\n",
    "def distance_meters(lat_start, long_start, lat_finish, long_finish):\n",
    "    # return the distance in metres between to latitude/longitude pair point in degrees (i.e.: 40.392436 / -3.6994487)\n",
    "    start = to_mercator(lat_start, long_start)\n",
    "    finish = to_mercator(lat_finish, long_finish)\n",
    "    return start.distance(finish)"
   ]
  },
  {
   "cell_type": "code",
   "execution_count": null,
   "id": "78bca31a",
   "metadata": {},
   "outputs": [],
   "source": [
    "def df_dist(df_pre_mercator, col='Distancia', lata='location.latitude', longa='location.longitude', \n",
    "            latb='location.latitude.bic', longb='location.longitude.bic'):\n",
    "    # función que crea una columna nueva cuyos valores son los resultados de aplicar mercator con la data de 4 columnas.\n",
    "    df_pre_mercator[col] = df_pre_mercator.apply(lambda x: distance_meters(x[lata], x[longa], x[latb], x[longb]), axis=1)   \n",
    "    return df_pre_mercator"
   ]
  },
  {
   "cell_type": "markdown",
   "id": "e03173c4",
   "metadata": {},
   "source": [
    "### Export total distancias"
   ]
  },
  {
   "cell_type": "code",
   "execution_count": null,
   "id": "bcf33fc7",
   "metadata": {},
   "outputs": [],
   "source": [
    "def save_df_csv(df_pre_mer, path='../datasets/df_merged.csv'): #ver si crear una carpeta donde guardar esta data\n",
    "    # función que convierte un df en csv\n",
    "    data = df_pre_mer.to_csv(path, index=False)\n",
    "    return data"
   ]
  },
  {
   "cell_type": "markdown",
   "id": "a74db530",
   "metadata": {},
   "source": [
    "### Reporting"
   ]
  },
  {
   "cell_type": "code",
   "execution_count": null,
   "id": "cb9372e0",
   "metadata": {},
   "outputs": [],
   "source": [
    "def point_interest(df_fin, ask, path='../datasets/specific_point_of_interest.csv', theme='Place of Interest', num):\n",
    "    # Función que nos devuelve n resultados en base al theme del usuario.\n",
    "    # analizar cómo poder elegir el theme haciendo que el sort anterior sea posterior al rename de columnas.\n",
    "    is_poi = df_fin.loc[:, theme] == ask\n",
    "    df_poi = df_fin.loc[is_poi]\n",
    "    df_poi = df_poi.reset_index(drop=True)\n",
    "    csv_poi = df_poi.head(num).to_csv(path, index=False)\n",
    "    return df_poi.head(num)"
   ]
  },
  {
   "cell_type": "code",
   "execution_count": null,
   "id": "2536aeb6",
   "metadata": {},
   "outputs": [],
   "source": [
    "def all_monuments(df_fin, bics=1, path='../datasets/all_points_of_interests.csv', theme='Place of Interest'):\n",
    "    # función que nos devuelve un listado de n resultados por cada theme indicado por el usuario\n",
    "    poi_uniques = df_fin[theme].unique().tolist()\n",
    "    df = df_fin.loc[:, 'Place of Interest'] == 'A Neruda-El Ser alado'\n",
    "    df1 = df_fin.loc[df]\n",
    "    df1 = df1.reset_index(drop=True)\n",
    "    df1 = df1.head(0)\n",
    "    for i in poi_uniques:\n",
    "        df_2 = df_fin.loc[:, theme] == i\n",
    "        df2 = df_fin.loc[df_2]\n",
    "        df2 = df2.reset_index(drop=True)\n",
    "        df2 = df2.head(bics)\n",
    "        df1 = df1.append(df2, ignore_index=True)\n",
    "    csv_full = test1.to_csv(path, index=False)\n",
    "    return df1.head()"
   ]
  }
 ],
 "metadata": {
  "kernelspec": {
   "display_name": "Python [conda env:.conda-proyecto_01]",
   "language": "python",
   "name": "conda-env-.conda-proyecto_01-py"
  },
  "language_info": {
   "codemirror_mode": {
    "name": "ipython",
    "version": 3
   },
   "file_extension": ".py",
   "mimetype": "text/x-python",
   "name": "python",
   "nbconvert_exporter": "python",
   "pygments_lexer": "ipython3",
   "version": "3.9.12"
  }
 },
 "nbformat": 4,
 "nbformat_minor": 5
}
