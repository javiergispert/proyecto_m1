{
 "cells": [
  {
   "cell_type": "markdown",
   "id": "611b27e4",
   "metadata": {},
   "source": [
    "# 1º) CONEXION SQL PARA BBDD PARADAS DE BICIS"
   ]
  },
  {
   "cell_type": "code",
   "execution_count": 1,
   "id": "b2504cf5",
   "metadata": {},
   "outputs": [
    {
     "data": {
      "text/plain": [
       "'1.4.32'"
      ]
     },
     "execution_count": 1,
     "metadata": {},
     "output_type": "execute_result"
    }
   ],
   "source": [
    "import sqlalchemy\n",
    "from sqlalchemy import create_engine\n",
    "from sqlalchemy import inspect\n",
    "import pandas as pd\n",
    "import requests\n",
    "import numpy as np\n",
    "\n",
    "sqlalchemy.__version__"
   ]
  },
  {
   "cell_type": "code",
   "execution_count": null,
   "id": "57754138",
   "metadata": {},
   "outputs": [],
   "source": [
    "#connection_string = 'mysql+pymysql://ironhack_user:%Vq=c>G5@173.201.189.217/BiciMAD'\n",
    "#connection_string"
   ]
  },
  {
   "cell_type": "code",
   "execution_count": null,
   "id": "51d5993a",
   "metadata": {},
   "outputs": [],
   "source": [
    "#engine = create_engine(connection_string)"
   ]
  },
  {
   "cell_type": "code",
   "execution_count": null,
   "id": "1256d19d",
   "metadata": {},
   "outputs": [],
   "source": [
    "#inspector = inspect(engine)\n",
    "#inspector.get_table_names()"
   ]
  },
  {
   "cell_type": "code",
   "execution_count": null,
   "id": "0fedc42a",
   "metadata": {},
   "outputs": [],
   "source": [
    "#df = pd.read_sql_query(\"SELECT * FROM bicimad_stations\", engine)\n",
    "#df"
   ]
  },
  {
   "cell_type": "code",
   "execution_count": 2,
   "id": "d8007ba4",
   "metadata": {},
   "outputs": [],
   "source": [
    "url_csv_bic= '../datasets/bicimad_stations.csv'"
   ]
  },
  {
   "cell_type": "code",
   "execution_count": 3,
   "id": "0ad535ac",
   "metadata": {},
   "outputs": [],
   "source": [
    "df = pd.read_csv(url_csv_bic, sep=',')"
   ]
  },
  {
   "cell_type": "code",
   "execution_count": 4,
   "id": "6bd0d646",
   "metadata": {},
   "outputs": [
    {
     "data": {
      "text/html": [
       "<div>\n",
       "<style scoped>\n",
       "    .dataframe tbody tr th:only-of-type {\n",
       "        vertical-align: middle;\n",
       "    }\n",
       "\n",
       "    .dataframe tbody tr th {\n",
       "        vertical-align: top;\n",
       "    }\n",
       "\n",
       "    .dataframe thead th {\n",
       "        text-align: right;\n",
       "    }\n",
       "</style>\n",
       "<table border=\"1\" class=\"dataframe\">\n",
       "  <thead>\n",
       "    <tr style=\"text-align: right;\">\n",
       "      <th></th>\n",
       "      <th>id</th>\n",
       "      <th>name</th>\n",
       "      <th>light</th>\n",
       "      <th>number</th>\n",
       "      <th>address</th>\n",
       "      <th>activate</th>\n",
       "      <th>no_available</th>\n",
       "      <th>total_bases</th>\n",
       "      <th>dock_bikes</th>\n",
       "      <th>free_bases</th>\n",
       "      <th>reservations_count</th>\n",
       "      <th>geometry.type</th>\n",
       "      <th>geometry.coordinates</th>\n",
       "    </tr>\n",
       "  </thead>\n",
       "  <tbody>\n",
       "    <tr>\n",
       "      <th>0</th>\n",
       "      <td>1</td>\n",
       "      <td>1a - Puerta del Sol A</td>\n",
       "      <td>3</td>\n",
       "      <td>1a</td>\n",
       "      <td>Puerta del Sol nº 1</td>\n",
       "      <td>1</td>\n",
       "      <td>1</td>\n",
       "      <td>30</td>\n",
       "      <td>0</td>\n",
       "      <td>0</td>\n",
       "      <td>0</td>\n",
       "      <td>Point</td>\n",
       "      <td>[-3.7018341, 40.4172137]</td>\n",
       "    </tr>\n",
       "    <tr>\n",
       "      <th>1</th>\n",
       "      <td>2</td>\n",
       "      <td>1b - Puerta del Sol B</td>\n",
       "      <td>3</td>\n",
       "      <td>1b</td>\n",
       "      <td>Puerta del Sol nº 1</td>\n",
       "      <td>1</td>\n",
       "      <td>1</td>\n",
       "      <td>30</td>\n",
       "      <td>0</td>\n",
       "      <td>0</td>\n",
       "      <td>0</td>\n",
       "      <td>Point</td>\n",
       "      <td>[-3.701602938060457, 40.41731271011562]</td>\n",
       "    </tr>\n",
       "    <tr>\n",
       "      <th>2</th>\n",
       "      <td>3</td>\n",
       "      <td>2 - Miguel Moya</td>\n",
       "      <td>3</td>\n",
       "      <td>2</td>\n",
       "      <td>Calle Miguel Moya nº 1</td>\n",
       "      <td>1</td>\n",
       "      <td>1</td>\n",
       "      <td>24</td>\n",
       "      <td>0</td>\n",
       "      <td>0</td>\n",
       "      <td>0</td>\n",
       "      <td>Point</td>\n",
       "      <td>[-3.7058415, 40.4205886]</td>\n",
       "    </tr>\n",
       "    <tr>\n",
       "      <th>3</th>\n",
       "      <td>4</td>\n",
       "      <td>3 - Plaza Conde Suchil</td>\n",
       "      <td>2</td>\n",
       "      <td>3</td>\n",
       "      <td>Plaza del Conde del Valle de Súchil nº 3</td>\n",
       "      <td>1</td>\n",
       "      <td>0</td>\n",
       "      <td>18</td>\n",
       "      <td>9</td>\n",
       "      <td>9</td>\n",
       "      <td>0</td>\n",
       "      <td>Point</td>\n",
       "      <td>[-3.7069171, 40.4302937]</td>\n",
       "    </tr>\n",
       "    <tr>\n",
       "      <th>4</th>\n",
       "      <td>5</td>\n",
       "      <td>4 - Malasaña</td>\n",
       "      <td>1</td>\n",
       "      <td>4</td>\n",
       "      <td>Calle Manuela Malasaña nº 5</td>\n",
       "      <td>1</td>\n",
       "      <td>0</td>\n",
       "      <td>24</td>\n",
       "      <td>23</td>\n",
       "      <td>1</td>\n",
       "      <td>0</td>\n",
       "      <td>Point</td>\n",
       "      <td>[-3.7025875, 40.4285524]</td>\n",
       "    </tr>\n",
       "  </tbody>\n",
       "</table>\n",
       "</div>"
      ],
      "text/plain": [
       "   id                    name  light number  \\\n",
       "0   1   1a - Puerta del Sol A      3     1a   \n",
       "1   2   1b - Puerta del Sol B      3     1b   \n",
       "2   3         2 - Miguel Moya      3      2   \n",
       "3   4  3 - Plaza Conde Suchil      2      3   \n",
       "4   5            4 - Malasaña      1      4   \n",
       "\n",
       "                                    address  activate  no_available  \\\n",
       "0                       Puerta del Sol nº 1         1             1   \n",
       "1                       Puerta del Sol nº 1         1             1   \n",
       "2                    Calle Miguel Moya nº 1         1             1   \n",
       "3  Plaza del Conde del Valle de Súchil nº 3         1             0   \n",
       "4               Calle Manuela Malasaña nº 5         1             0   \n",
       "\n",
       "   total_bases  dock_bikes  free_bases  reservations_count geometry.type  \\\n",
       "0           30           0           0                   0         Point   \n",
       "1           30           0           0                   0         Point   \n",
       "2           24           0           0                   0         Point   \n",
       "3           18           9           9                   0         Point   \n",
       "4           24          23           1                   0         Point   \n",
       "\n",
       "                      geometry.coordinates  \n",
       "0                 [-3.7018341, 40.4172137]  \n",
       "1  [-3.701602938060457, 40.41731271011562]  \n",
       "2                 [-3.7058415, 40.4205886]  \n",
       "3                 [-3.7069171, 40.4302937]  \n",
       "4                 [-3.7025875, 40.4285524]  "
      ]
     },
     "execution_count": 4,
     "metadata": {},
     "output_type": "execute_result"
    }
   ],
   "source": [
    "df.head()"
   ]
  },
  {
   "cell_type": "code",
   "execution_count": 5,
   "id": "d507aff5",
   "metadata": {
    "scrolled": true
   },
   "outputs": [
    {
     "data": {
      "text/html": [
       "<div>\n",
       "<style scoped>\n",
       "    .dataframe tbody tr th:only-of-type {\n",
       "        vertical-align: middle;\n",
       "    }\n",
       "\n",
       "    .dataframe tbody tr th {\n",
       "        vertical-align: top;\n",
       "    }\n",
       "\n",
       "    .dataframe thead th {\n",
       "        text-align: right;\n",
       "    }\n",
       "</style>\n",
       "<table border=\"1\" class=\"dataframe\">\n",
       "  <thead>\n",
       "    <tr style=\"text-align: right;\">\n",
       "      <th></th>\n",
       "      <th>name</th>\n",
       "      <th>address</th>\n",
       "      <th>geometry.coordinates</th>\n",
       "    </tr>\n",
       "  </thead>\n",
       "  <tbody>\n",
       "    <tr>\n",
       "      <th>0</th>\n",
       "      <td>1a - Puerta del Sol A</td>\n",
       "      <td>Puerta del Sol nº 1</td>\n",
       "      <td>[-3.7018341, 40.4172137]</td>\n",
       "    </tr>\n",
       "    <tr>\n",
       "      <th>1</th>\n",
       "      <td>1b - Puerta del Sol B</td>\n",
       "      <td>Puerta del Sol nº 1</td>\n",
       "      <td>[-3.701602938060457, 40.41731271011562]</td>\n",
       "    </tr>\n",
       "    <tr>\n",
       "      <th>2</th>\n",
       "      <td>2 - Miguel Moya</td>\n",
       "      <td>Calle Miguel Moya nº 1</td>\n",
       "      <td>[-3.7058415, 40.4205886]</td>\n",
       "    </tr>\n",
       "    <tr>\n",
       "      <th>3</th>\n",
       "      <td>3 - Plaza Conde Suchil</td>\n",
       "      <td>Plaza del Conde del Valle de Súchil nº 3</td>\n",
       "      <td>[-3.7069171, 40.4302937]</td>\n",
       "    </tr>\n",
       "    <tr>\n",
       "      <th>4</th>\n",
       "      <td>4 - Malasaña</td>\n",
       "      <td>Calle Manuela Malasaña nº 5</td>\n",
       "      <td>[-3.7025875, 40.4285524]</td>\n",
       "    </tr>\n",
       "    <tr>\n",
       "      <th>...</th>\n",
       "      <td>...</td>\n",
       "      <td>...</td>\n",
       "      <td>...</td>\n",
       "    </tr>\n",
       "    <tr>\n",
       "      <th>259</th>\n",
       "      <td>257 - INEF</td>\n",
       "      <td>Avenida Juan de Herrera frente a la calle Paul...</td>\n",
       "      <td>[-3.72997, 40.43896]</td>\n",
       "    </tr>\n",
       "    <tr>\n",
       "      <th>260</th>\n",
       "      <td>258 - Ciudad Universitaria 1</td>\n",
       "      <td>Avenida de la Complutense (Metro Ciudad Univer...</td>\n",
       "      <td>[-3.72699, 40.44375]</td>\n",
       "    </tr>\n",
       "    <tr>\n",
       "      <th>261</th>\n",
       "      <td>259 - Ciudad Universitaria 2</td>\n",
       "      <td>Avenida de la Complutense (Metro Ciudad Univer...</td>\n",
       "      <td>[-3.72693, 40.44342]</td>\n",
       "    </tr>\n",
       "    <tr>\n",
       "      <th>262</th>\n",
       "      <td>260 - Facultad Biología</td>\n",
       "      <td>Calle José Antonio Novais frente al nº 12</td>\n",
       "      <td>[-3.7272945, 40.4483322]</td>\n",
       "    </tr>\n",
       "    <tr>\n",
       "      <th>263</th>\n",
       "      <td>261 - Facultad Derecho</td>\n",
       "      <td>Avenida Complutense nº 23</td>\n",
       "      <td>[-3.72937, 40.45109]</td>\n",
       "    </tr>\n",
       "  </tbody>\n",
       "</table>\n",
       "<p>264 rows × 3 columns</p>\n",
       "</div>"
      ],
      "text/plain": [
       "                             name  \\\n",
       "0           1a - Puerta del Sol A   \n",
       "1           1b - Puerta del Sol B   \n",
       "2                 2 - Miguel Moya   \n",
       "3          3 - Plaza Conde Suchil   \n",
       "4                    4 - Malasaña   \n",
       "..                            ...   \n",
       "259                    257 - INEF   \n",
       "260  258 - Ciudad Universitaria 1   \n",
       "261  259 - Ciudad Universitaria 2   \n",
       "262       260 - Facultad Biología   \n",
       "263        261 - Facultad Derecho   \n",
       "\n",
       "                                               address  \\\n",
       "0                                  Puerta del Sol nº 1   \n",
       "1                                  Puerta del Sol nº 1   \n",
       "2                               Calle Miguel Moya nº 1   \n",
       "3             Plaza del Conde del Valle de Súchil nº 3   \n",
       "4                          Calle Manuela Malasaña nº 5   \n",
       "..                                                 ...   \n",
       "259  Avenida Juan de Herrera frente a la calle Paul...   \n",
       "260  Avenida de la Complutense (Metro Ciudad Univer...   \n",
       "261  Avenida de la Complutense (Metro Ciudad Univer...   \n",
       "262          Calle José Antonio Novais frente al nº 12   \n",
       "263                          Avenida Complutense nº 23   \n",
       "\n",
       "                        geometry.coordinates  \n",
       "0                   [-3.7018341, 40.4172137]  \n",
       "1    [-3.701602938060457, 40.41731271011562]  \n",
       "2                   [-3.7058415, 40.4205886]  \n",
       "3                   [-3.7069171, 40.4302937]  \n",
       "4                   [-3.7025875, 40.4285524]  \n",
       "..                                       ...  \n",
       "259                     [-3.72997, 40.43896]  \n",
       "260                     [-3.72699, 40.44375]  \n",
       "261                     [-3.72693, 40.44342]  \n",
       "262                 [-3.7272945, 40.4483322]  \n",
       "263                     [-3.72937, 40.45109]  \n",
       "\n",
       "[264 rows x 3 columns]"
      ]
     },
     "execution_count": 5,
     "metadata": {},
     "output_type": "execute_result"
    }
   ],
   "source": [
    "#df con la información que necesitamos\n",
    "\n",
    "df_bic = df[['name', 'address', 'geometry.coordinates']]\n",
    "df_bic"
   ]
  },
  {
   "cell_type": "code",
   "execution_count": 6,
   "id": "aec4fcfa",
   "metadata": {},
   "outputs": [
    {
     "name": "stderr",
     "output_type": "stream",
     "text": [
      "C:\\Users\\Usuario\\AppData\\Local\\Temp\\ipykernel_19980\\604205475.py:1: SettingWithCopyWarning: \n",
      "A value is trying to be set on a copy of a slice from a DataFrame.\n",
      "Try using .loc[row_indexer,col_indexer] = value instead\n",
      "\n",
      "See the caveats in the documentation: https://pandas.pydata.org/pandas-docs/stable/user_guide/indexing.html#returning-a-view-versus-a-copy\n",
      "  df_bic[['location.longitude.bic', 'location.latitude.bic']]= df_bic['geometry.coordinates'].str.split(',', expand=True)\n",
      "C:\\Users\\Usuario\\AppData\\Local\\Temp\\ipykernel_19980\\604205475.py:1: SettingWithCopyWarning: \n",
      "A value is trying to be set on a copy of a slice from a DataFrame.\n",
      "Try using .loc[row_indexer,col_indexer] = value instead\n",
      "\n",
      "See the caveats in the documentation: https://pandas.pydata.org/pandas-docs/stable/user_guide/indexing.html#returning-a-view-versus-a-copy\n",
      "  df_bic[['location.longitude.bic', 'location.latitude.bic']]= df_bic['geometry.coordinates'].str.split(',', expand=True)\n"
     ]
    }
   ],
   "source": [
    "df_bic[['location.longitude.bic', 'location.latitude.bic']]= df_bic['geometry.coordinates'].str.split(',', expand=True)"
   ]
  },
  {
   "cell_type": "code",
   "execution_count": 7,
   "id": "37f4c979",
   "metadata": {
    "scrolled": true
   },
   "outputs": [
    {
     "name": "stderr",
     "output_type": "stream",
     "text": [
      "C:\\Users\\Usuario\\AppData\\Local\\Temp\\ipykernel_19980\\314766187.py:1: SettingWithCopyWarning: \n",
      "A value is trying to be set on a copy of a slice from a DataFrame.\n",
      "Try using .loc[row_indexer,col_indexer] = value instead\n",
      "\n",
      "See the caveats in the documentation: https://pandas.pydata.org/pandas-docs/stable/user_guide/indexing.html#returning-a-view-versus-a-copy\n",
      "  df_bic['location.longitude.bic'] = df_bic['location.longitude.bic'].apply(lambda x: float(x[1:]))\n",
      "C:\\Users\\Usuario\\AppData\\Local\\Temp\\ipykernel_19980\\314766187.py:2: SettingWithCopyWarning: \n",
      "A value is trying to be set on a copy of a slice from a DataFrame.\n",
      "Try using .loc[row_indexer,col_indexer] = value instead\n",
      "\n",
      "See the caveats in the documentation: https://pandas.pydata.org/pandas-docs/stable/user_guide/indexing.html#returning-a-view-versus-a-copy\n",
      "  df_bic['location.latitude.bic'] = df_bic['location.latitude.bic'].apply(lambda x: float(x[:-1]))\n"
     ]
    }
   ],
   "source": [
    "df_bic['location.longitude.bic'] = df_bic['location.longitude.bic'].apply(lambda x: float(x[1:]))\n",
    "df_bic['location.latitude.bic'] = df_bic['location.latitude.bic'].apply(lambda x: float(x[:-1]))"
   ]
  },
  {
   "cell_type": "markdown",
   "id": "e56a31cc",
   "metadata": {},
   "source": [
    "### DF DEFINITIVO PARADAS DE BICIS = df_bic"
   ]
  },
  {
   "cell_type": "code",
   "execution_count": 8,
   "id": "6ebec4aa",
   "metadata": {},
   "outputs": [
    {
     "data": {
      "text/html": [
       "<div>\n",
       "<style scoped>\n",
       "    .dataframe tbody tr th:only-of-type {\n",
       "        vertical-align: middle;\n",
       "    }\n",
       "\n",
       "    .dataframe tbody tr th {\n",
       "        vertical-align: top;\n",
       "    }\n",
       "\n",
       "    .dataframe thead th {\n",
       "        text-align: right;\n",
       "    }\n",
       "</style>\n",
       "<table border=\"1\" class=\"dataframe\">\n",
       "  <thead>\n",
       "    <tr style=\"text-align: right;\">\n",
       "      <th></th>\n",
       "      <th>name</th>\n",
       "      <th>address</th>\n",
       "      <th>location.latitude.bic</th>\n",
       "      <th>location.longitude.bic</th>\n",
       "    </tr>\n",
       "  </thead>\n",
       "  <tbody>\n",
       "    <tr>\n",
       "      <th>0</th>\n",
       "      <td>1a - Puerta del Sol A</td>\n",
       "      <td>Puerta del Sol nº 1</td>\n",
       "      <td>40.417214</td>\n",
       "      <td>-3.701834</td>\n",
       "    </tr>\n",
       "    <tr>\n",
       "      <th>1</th>\n",
       "      <td>1b - Puerta del Sol B</td>\n",
       "      <td>Puerta del Sol nº 1</td>\n",
       "      <td>40.417313</td>\n",
       "      <td>-3.701603</td>\n",
       "    </tr>\n",
       "    <tr>\n",
       "      <th>2</th>\n",
       "      <td>2 - Miguel Moya</td>\n",
       "      <td>Calle Miguel Moya nº 1</td>\n",
       "      <td>40.420589</td>\n",
       "      <td>-3.705842</td>\n",
       "    </tr>\n",
       "    <tr>\n",
       "      <th>3</th>\n",
       "      <td>3 - Plaza Conde Suchil</td>\n",
       "      <td>Plaza del Conde del Valle de Súchil nº 3</td>\n",
       "      <td>40.430294</td>\n",
       "      <td>-3.706917</td>\n",
       "    </tr>\n",
       "    <tr>\n",
       "      <th>4</th>\n",
       "      <td>4 - Malasaña</td>\n",
       "      <td>Calle Manuela Malasaña nº 5</td>\n",
       "      <td>40.428552</td>\n",
       "      <td>-3.702587</td>\n",
       "    </tr>\n",
       "    <tr>\n",
       "      <th>...</th>\n",
       "      <td>...</td>\n",
       "      <td>...</td>\n",
       "      <td>...</td>\n",
       "      <td>...</td>\n",
       "    </tr>\n",
       "    <tr>\n",
       "      <th>259</th>\n",
       "      <td>257 - INEF</td>\n",
       "      <td>Avenida Juan de Herrera frente a la calle Paul...</td>\n",
       "      <td>40.438960</td>\n",
       "      <td>-3.729970</td>\n",
       "    </tr>\n",
       "    <tr>\n",
       "      <th>260</th>\n",
       "      <td>258 - Ciudad Universitaria 1</td>\n",
       "      <td>Avenida de la Complutense (Metro Ciudad Univer...</td>\n",
       "      <td>40.443750</td>\n",
       "      <td>-3.726990</td>\n",
       "    </tr>\n",
       "    <tr>\n",
       "      <th>261</th>\n",
       "      <td>259 - Ciudad Universitaria 2</td>\n",
       "      <td>Avenida de la Complutense (Metro Ciudad Univer...</td>\n",
       "      <td>40.443420</td>\n",
       "      <td>-3.726930</td>\n",
       "    </tr>\n",
       "    <tr>\n",
       "      <th>262</th>\n",
       "      <td>260 - Facultad Biología</td>\n",
       "      <td>Calle José Antonio Novais frente al nº 12</td>\n",
       "      <td>40.448332</td>\n",
       "      <td>-3.727295</td>\n",
       "    </tr>\n",
       "    <tr>\n",
       "      <th>263</th>\n",
       "      <td>261 - Facultad Derecho</td>\n",
       "      <td>Avenida Complutense nº 23</td>\n",
       "      <td>40.451090</td>\n",
       "      <td>-3.729370</td>\n",
       "    </tr>\n",
       "  </tbody>\n",
       "</table>\n",
       "<p>264 rows × 4 columns</p>\n",
       "</div>"
      ],
      "text/plain": [
       "                             name  \\\n",
       "0           1a - Puerta del Sol A   \n",
       "1           1b - Puerta del Sol B   \n",
       "2                 2 - Miguel Moya   \n",
       "3          3 - Plaza Conde Suchil   \n",
       "4                    4 - Malasaña   \n",
       "..                            ...   \n",
       "259                    257 - INEF   \n",
       "260  258 - Ciudad Universitaria 1   \n",
       "261  259 - Ciudad Universitaria 2   \n",
       "262       260 - Facultad Biología   \n",
       "263        261 - Facultad Derecho   \n",
       "\n",
       "                                               address  location.latitude.bic  \\\n",
       "0                                  Puerta del Sol nº 1              40.417214   \n",
       "1                                  Puerta del Sol nº 1              40.417313   \n",
       "2                               Calle Miguel Moya nº 1              40.420589   \n",
       "3             Plaza del Conde del Valle de Súchil nº 3              40.430294   \n",
       "4                          Calle Manuela Malasaña nº 5              40.428552   \n",
       "..                                                 ...                    ...   \n",
       "259  Avenida Juan de Herrera frente a la calle Paul...              40.438960   \n",
       "260  Avenida de la Complutense (Metro Ciudad Univer...              40.443750   \n",
       "261  Avenida de la Complutense (Metro Ciudad Univer...              40.443420   \n",
       "262          Calle José Antonio Novais frente al nº 12              40.448332   \n",
       "263                          Avenida Complutense nº 23              40.451090   \n",
       "\n",
       "     location.longitude.bic  \n",
       "0                 -3.701834  \n",
       "1                 -3.701603  \n",
       "2                 -3.705842  \n",
       "3                 -3.706917  \n",
       "4                 -3.702587  \n",
       "..                      ...  \n",
       "259               -3.729970  \n",
       "260               -3.726990  \n",
       "261               -3.726930  \n",
       "262               -3.727295  \n",
       "263               -3.729370  \n",
       "\n",
       "[264 rows x 4 columns]"
      ]
     },
     "execution_count": 8,
     "metadata": {},
     "output_type": "execute_result"
    }
   ],
   "source": [
    "df_bic = df_bic[['name', 'address', 'location.latitude.bic', 'location.longitude.bic']]\n",
    "df_bic"
   ]
  },
  {
   "cell_type": "markdown",
   "id": "7ed08f3f",
   "metadata": {},
   "source": [
    "# 2º) CONEXIÓN API MONUMENTOS DE MADRID"
   ]
  },
  {
   "cell_type": "code",
   "execution_count": 9,
   "id": "8e72a022",
   "metadata": {},
   "outputs": [],
   "source": [
    "endpoint = 'https://datos.madrid.es/egob'\n",
    "url = '/catalogo/300356-0-monumentos-ciudad-madrid.json'\n",
    "response = requests.get(endpoint + url)\n",
    "#response\n",
    "#print(type(response))"
   ]
  },
  {
   "cell_type": "code",
   "execution_count": null,
   "id": "99803950",
   "metadata": {},
   "outputs": [],
   "source": [
    "status = response.status_code\n",
    "status"
   ]
  },
  {
   "cell_type": "code",
   "execution_count": 39,
   "id": "0f6efa2f",
   "metadata": {},
   "outputs": [
    {
     "name": "stdout",
     "output_type": "stream",
     "text": [
      "<class 'list'>\n"
     ]
    }
   ],
   "source": [
    "json_data = response.json()\n",
    "print(type(json_data['@graph']))\n",
    "#print(len(json_data))\n",
    "#json_data.keys()"
   ]
  },
  {
   "cell_type": "code",
   "execution_count": 11,
   "id": "da4513c2",
   "metadata": {},
   "outputs": [],
   "source": [
    "df = pd.DataFrame(pd.json_normalize(json_data['@graph']))\n",
    "#df.head(5)"
   ]
  },
  {
   "cell_type": "code",
   "execution_count": null,
   "id": "35fea490",
   "metadata": {},
   "outputs": [],
   "source": [
    "#ojo que hay nulos en localizaciones que será clave para obtener luego la más cercana.\n",
    "\n",
    "dfm.info()"
   ]
  },
  {
   "cell_type": "code",
   "execution_count": null,
   "id": "3564e214",
   "metadata": {
    "scrolled": true
   },
   "outputs": [],
   "source": [
    "#Revisando los valores nulos de la tabla\n",
    "\n",
    "null_cols = dfm.isnull().sum()\n",
    "null_cols[null_cols > 0]"
   ]
  },
  {
   "cell_type": "markdown",
   "id": "94bb7dfd",
   "metadata": {},
   "source": [
    "### DF DEFINITIVO MONUMENTOS MADRID = df_monu"
   ]
  },
  {
   "cell_type": "code",
   "execution_count": 12,
   "id": "0cfdcfa7",
   "metadata": {},
   "outputs": [],
   "source": [
    "# vamos a crear un df con las columnas e información que nos interesan eliminando todos aquellos destinos que no tengan\n",
    "# coordenadas.\n",
    "\n",
    "df_monu = dfm[['title', 'address.street-address', 'location.latitude' , 'location.longitude']]\n",
    "df_monu = df_monu.dropna()"
   ]
  },
  {
   "cell_type": "code",
   "execution_count": null,
   "id": "48053fef",
   "metadata": {},
   "outputs": [],
   "source": [
    "df_monu.info()"
   ]
  },
  {
   "cell_type": "markdown",
   "id": "64104a82",
   "metadata": {},
   "source": [
    "# 3º) DISTANCIA MENOR ENTRE PUNTOS"
   ]
  },
  {
   "cell_type": "markdown",
   "id": "3bf2583a",
   "metadata": {},
   "source": [
    "### Funciones facilitadas"
   ]
  },
  {
   "cell_type": "code",
   "execution_count": 13,
   "id": "787d33d4",
   "metadata": {},
   "outputs": [],
   "source": [
    "from shapely.geometry import Point\n",
    "import geopandas as gpd   # conda install -c conda-forge geopandas"
   ]
  },
  {
   "cell_type": "code",
   "execution_count": 14,
   "id": "cdae0a2f",
   "metadata": {},
   "outputs": [],
   "source": [
    "def to_mercator(lat, long):\n",
    "    # transform latitude/longitude data in degrees to pseudo-mercator coordinates in metres\n",
    "    c = gpd.GeoSeries([Point(lat, long)], crs=4326)\n",
    "    c = c.to_crs(3857)\n",
    "    return c\n",
    "\n",
    "def distance_meters(lat_start, long_start, lat_finish, long_finish):\n",
    "    # return the distance in metres between to latitude/longitude pair point in degrees (i.e.: 40.392436 / -3.6994487)\n",
    "    start = to_mercator(lat_start, long_start)\n",
    "    finish = to_mercator(lat_finish, long_finish)\n",
    "    return start.distance(finish)"
   ]
  },
  {
   "cell_type": "markdown",
   "id": "ef92e82f",
   "metadata": {},
   "source": [
    "### Test de las funciones"
   ]
  },
  {
   "cell_type": "code",
   "execution_count": null,
   "id": "addd6fea",
   "metadata": {},
   "outputs": [],
   "source": [
    "to_mercator(df_bic['location.latitude.bic'][0], df_bic['location.longitude.bic'][0])"
   ]
  },
  {
   "cell_type": "code",
   "execution_count": null,
   "id": "c7d5f7fa",
   "metadata": {},
   "outputs": [],
   "source": [
    "to_mercator(df_monu['location.latitude'][0], df_monu['location.longitude'][0])"
   ]
  },
  {
   "cell_type": "code",
   "execution_count": null,
   "id": "7eea85bd",
   "metadata": {},
   "outputs": [],
   "source": [
    "distance_meters(df_monu['location.latitude'][0], df_monu['location.longitude'][0], df_bic['location.latitude.bic'][0], df_bic['location.longitude.bic'][0])"
   ]
  },
  {
   "cell_type": "markdown",
   "id": "e6a4ed9f",
   "metadata": {},
   "source": [
    "### Magia"
   ]
  },
  {
   "cell_type": "code",
   "execution_count": null,
   "id": "95207703",
   "metadata": {
    "scrolled": true
   },
   "outputs": [],
   "source": [
    "%%time\n",
    "\n",
    "df_nuevo = df_monu.head(1)\n",
    "df_test = pd.concat([df_nuevo, df_bic], axis=1).ffill()\n",
    "df_test['Distancia'] = df_test.apply(lambda x: distance_meters(x['location.latitude'], x['location.longitude'], x['location.latitude.bic'], x['location.longitude.bic']), axis=1)\n",
    "zz = df_test.sort_values(by = 'Distancia')\n"
   ]
  },
  {
   "cell_type": "code",
   "execution_count": null,
   "id": "9ba455c6",
   "metadata": {},
   "outputs": [],
   "source": [
    "zz.head(5)"
   ]
  },
  {
   "cell_type": "code",
   "execution_count": null,
   "id": "a4e78133",
   "metadata": {},
   "outputs": [],
   "source": [
    "%%time\n",
    "\n",
    "df_nuevo = df_monu.head(2)\n",
    "df_test = pd.concat([df_nuevo, df_bic], axis=1).ffill()\n",
    "df_test['Distancia'] = df_test.apply(lambda x: distance_meters(x['location.latitude'], x['location.longitude'], x['location.latitude.bic'], x['location.longitude.bic']), axis=1)\n",
    "zz2 = df_test.sort_values(by = 'Distancia')"
   ]
  },
  {
   "cell_type": "code",
   "execution_count": null,
   "id": "4f9240a6",
   "metadata": {},
   "outputs": [],
   "source": [
    "zz2.head()"
   ]
  },
  {
   "cell_type": "code",
   "execution_count": 15,
   "id": "c6e542d1",
   "metadata": {},
   "outputs": [],
   "source": [
    "df_bic['key'] = 0\n",
    "df_monu['key'] = 0"
   ]
  },
  {
   "cell_type": "code",
   "execution_count": 16,
   "id": "d2e87be6",
   "metadata": {},
   "outputs": [],
   "source": [
    "df_pre = df_bic.merge(df_monu, on='key', how='left')#, lsuffix= '_1', rsuffix= '_2')"
   ]
  },
  {
   "cell_type": "code",
   "execution_count": null,
   "id": "065e80bf",
   "metadata": {},
   "outputs": [],
   "source": [
    "%%time\n",
    "\n",
    "#df_pre['Distancia'] = df_pre.apply(lambda x: distance_meters(x['location.latitude'], x['location.longitude'], \n",
    "                                                            # x['location.latitude.bic'], x['location.longitude.bic']), axis=1)"
   ]
  },
  {
   "cell_type": "code",
   "execution_count": null,
   "id": "8dcb031a",
   "metadata": {},
   "outputs": [],
   "source": [
    "#data = df_pre.to_csv('../datasets/df.csv', index=False)"
   ]
  },
  {
   "cell_type": "markdown",
   "id": "00ac9e8a",
   "metadata": {},
   "source": [
    "### Ya tenemos el DF_pre guardado"
   ]
  },
  {
   "cell_type": "code",
   "execution_count": 17,
   "id": "e03961f6",
   "metadata": {},
   "outputs": [],
   "source": [
    "url_df_pre = '../datasets/df.csv'"
   ]
  },
  {
   "cell_type": "code",
   "execution_count": 18,
   "id": "1ef6679a",
   "metadata": {},
   "outputs": [],
   "source": [
    "df_def = pd.read_csv(url_df_pre, sep=',')"
   ]
  },
  {
   "cell_type": "code",
   "execution_count": null,
   "id": "3856060a",
   "metadata": {},
   "outputs": [],
   "source": [
    "df_def.head()"
   ]
  },
  {
   "cell_type": "code",
   "execution_count": 19,
   "id": "8a631694",
   "metadata": {},
   "outputs": [
    {
     "data": {
      "text/html": [
       "<div>\n",
       "<style scoped>\n",
       "    .dataframe tbody tr th:only-of-type {\n",
       "        vertical-align: middle;\n",
       "    }\n",
       "\n",
       "    .dataframe tbody tr th {\n",
       "        vertical-align: top;\n",
       "    }\n",
       "\n",
       "    .dataframe thead th {\n",
       "        text-align: right;\n",
       "    }\n",
       "</style>\n",
       "<table border=\"1\" class=\"dataframe\">\n",
       "  <thead>\n",
       "    <tr style=\"text-align: right;\">\n",
       "      <th></th>\n",
       "      <th>Place of Interest</th>\n",
       "      <th>Type of place</th>\n",
       "      <th>Place address</th>\n",
       "      <th>BiciMAD station</th>\n",
       "      <th>Station Location</th>\n",
       "    </tr>\n",
       "  </thead>\n",
       "  <tbody>\n",
       "    <tr>\n",
       "      <th>410370</th>\n",
       "      <td>A Neruda-El Ser alado</td>\n",
       "      <td>Monumento de la ciudad de Madrid</td>\n",
       "      <td>Gta José Luis Ozores 116</td>\n",
       "      <td>227 - Concordia</td>\n",
       "      <td>Calle Arroyo del Olivar nº 6</td>\n",
       "    </tr>\n",
       "    <tr>\n",
       "      <th>408578</th>\n",
       "      <td>A Neruda-El Ser alado</td>\n",
       "      <td>Monumento de la ciudad de Madrid</td>\n",
       "      <td>Gta José Luis Ozores 116</td>\n",
       "      <td>226 - Sierra Toledana</td>\n",
       "      <td>Camino de Valderribas nº 94</td>\n",
       "    </tr>\n",
       "    <tr>\n",
       "      <th>406786</th>\n",
       "      <td>A Neruda-El Ser alado</td>\n",
       "      <td>Monumento de la ciudad de Madrid</td>\n",
       "      <td>Gta José Luis Ozores 116</td>\n",
       "      <td>225 - Doctor Lozano</td>\n",
       "      <td>Calle Sierra Toledana nº 33</td>\n",
       "    </tr>\n",
       "    <tr>\n",
       "      <th>324354</th>\n",
       "      <td>A Neruda-El Ser alado</td>\n",
       "      <td>Monumento de la ciudad de Madrid</td>\n",
       "      <td>Gta José Luis Ozores 116</td>\n",
       "      <td>179 - Puente de Vallecas</td>\n",
       "      <td>Avenida de la Albufera nº 6</td>\n",
       "    </tr>\n",
       "    <tr>\n",
       "      <th>397826</th>\n",
       "      <td>A Neruda-El Ser alado</td>\n",
       "      <td>Monumento de la ciudad de Madrid</td>\n",
       "      <td>Gta José Luis Ozores 116</td>\n",
       "      <td>220 - Plaza del Encuentro</td>\n",
       "      <td>Calle Arroyo de las Pilillas nº 6</td>\n",
       "    </tr>\n",
       "    <tr>\n",
       "      <th>...</th>\n",
       "      <td>...</td>\n",
       "      <td>...</td>\n",
       "      <td>...</td>\n",
       "      <td>...</td>\n",
       "      <td>...</td>\n",
       "    </tr>\n",
       "    <tr>\n",
       "      <th>392447</th>\n",
       "      <td>Órgano</td>\n",
       "      <td>Monumento de la ciudad de Madrid</td>\n",
       "      <td>C Castelló 77</td>\n",
       "      <td>216 - Puerta del Ángel</td>\n",
       "      <td>Plaza Puerta del Ángel nº 4</td>\n",
       "    </tr>\n",
       "    <tr>\n",
       "      <th>394239</th>\n",
       "      <td>Órgano</td>\n",
       "      <td>Monumento de la ciudad de Madrid</td>\n",
       "      <td>C Castelló 77</td>\n",
       "      <td>217 - Pedro Rico</td>\n",
       "      <td>Calle Pedro Rico nº 4</td>\n",
       "    </tr>\n",
       "    <tr>\n",
       "      <th>473087</th>\n",
       "      <td>Órgano</td>\n",
       "      <td>Monumento de la ciudad de Madrid</td>\n",
       "      <td>C Castelló 77</td>\n",
       "      <td>261 - Facultad Derecho</td>\n",
       "      <td>Avenida Complutense nº 23</td>\n",
       "    </tr>\n",
       "    <tr>\n",
       "      <th>406783</th>\n",
       "      <td>Órgano</td>\n",
       "      <td>Monumento de la ciudad de Madrid</td>\n",
       "      <td>C Castelló 77</td>\n",
       "      <td>224 - Caramuel</td>\n",
       "      <td>Calle Caramuel nº 51</td>\n",
       "    </tr>\n",
       "    <tr>\n",
       "      <th>401407</th>\n",
       "      <td>Órgano</td>\n",
       "      <td>Monumento de la ciudad de Madrid</td>\n",
       "      <td>C Castelló 77</td>\n",
       "      <td>221 - Pavones</td>\n",
       "      <td>Calle Hacienda de Pavones nº 342</td>\n",
       "    </tr>\n",
       "  </tbody>\n",
       "</table>\n",
       "<p>473088 rows × 5 columns</p>\n",
       "</div>"
      ],
      "text/plain": [
       "            Place of Interest                     Type of place  \\\n",
       "410370  A Neruda-El Ser alado  Monumento de la ciudad de Madrid   \n",
       "408578  A Neruda-El Ser alado  Monumento de la ciudad de Madrid   \n",
       "406786  A Neruda-El Ser alado  Monumento de la ciudad de Madrid   \n",
       "324354  A Neruda-El Ser alado  Monumento de la ciudad de Madrid   \n",
       "397826  A Neruda-El Ser alado  Monumento de la ciudad de Madrid   \n",
       "...                       ...                               ...   \n",
       "392447                 Órgano  Monumento de la ciudad de Madrid   \n",
       "394239                 Órgano  Monumento de la ciudad de Madrid   \n",
       "473087                 Órgano  Monumento de la ciudad de Madrid   \n",
       "406783                 Órgano  Monumento de la ciudad de Madrid   \n",
       "401407                 Órgano  Monumento de la ciudad de Madrid   \n",
       "\n",
       "                   Place address            BiciMAD station  \\\n",
       "410370  Gta José Luis Ozores 116            227 - Concordia   \n",
       "408578  Gta José Luis Ozores 116      226 - Sierra Toledana   \n",
       "406786  Gta José Luis Ozores 116        225 - Doctor Lozano   \n",
       "324354  Gta José Luis Ozores 116   179 - Puente de Vallecas   \n",
       "397826  Gta José Luis Ozores 116  220 - Plaza del Encuentro   \n",
       "...                          ...                        ...   \n",
       "392447             C Castelló 77     216 - Puerta del Ángel   \n",
       "394239             C Castelló 77           217 - Pedro Rico   \n",
       "473087             C Castelló 77     261 - Facultad Derecho   \n",
       "406783             C Castelló 77             224 - Caramuel   \n",
       "401407             C Castelló 77              221 - Pavones   \n",
       "\n",
       "                         Station Location  \n",
       "410370       Calle Arroyo del Olivar nº 6  \n",
       "408578        Camino de Valderribas nº 94  \n",
       "406786        Calle Sierra Toledana nº 33  \n",
       "324354        Avenida de la Albufera nº 6  \n",
       "397826  Calle Arroyo de las Pilillas nº 6  \n",
       "...                                   ...  \n",
       "392447        Plaza Puerta del Ángel nº 4  \n",
       "394239              Calle Pedro Rico nº 4  \n",
       "473087          Avenida Complutense nº 23  \n",
       "406783               Calle Caramuel nº 51  \n",
       "401407   Calle Hacienda de Pavones nº 342  \n",
       "\n",
       "[473088 rows x 5 columns]"
      ]
     },
     "execution_count": 19,
     "metadata": {},
     "output_type": "execute_result"
    }
   ],
   "source": [
    "zz5 = df_def.sort_values(by = ['title', 'Distancia']).rename(columns={'title':'Place of Interest', \n",
    "                                                                      'address.street-address':'Place address',\n",
    "                                                                     'name':'BiciMAD station',\n",
    "                                                                      'address':'Station Location'})\n",
    "\n",
    "\n",
    "zz5['Type of place'] = np.nan\n",
    "zz5['Type of place'] = zz5['Type of place'].fillna('Monumento de la ciudad de Madrid')\n",
    "df_final = zz5[['Place of Interest', 'Type of place', 'Place address', 'BiciMAD station', 'Station Location']] #.info()\n",
    "df_final"
   ]
  },
  {
   "cell_type": "code",
   "execution_count": null,
   "id": "bfb866b3",
   "metadata": {},
   "outputs": [],
   "source": [
    "#función para dejar la columna de BiciMAD station limpia\n",
    "\n",
    "def spl(x):\n",
    "    x = x.split('-')[1]\n",
    "    return x"
   ]
  },
  {
   "cell_type": "markdown",
   "id": "c4cf4d81",
   "metadata": {},
   "source": [
    "### Dataframe Final"
   ]
  },
  {
   "cell_type": "code",
   "execution_count": 22,
   "id": "ac0a063c",
   "metadata": {},
   "outputs": [
    {
     "name": "stderr",
     "output_type": "stream",
     "text": [
      "C:\\Users\\Usuario\\AppData\\Local\\Temp\\ipykernel_19980\\3431307281.py:1: SettingWithCopyWarning: \n",
      "A value is trying to be set on a copy of a slice from a DataFrame.\n",
      "Try using .loc[row_indexer,col_indexer] = value instead\n",
      "\n",
      "See the caveats in the documentation: https://pandas.pydata.org/pandas-docs/stable/user_guide/indexing.html#returning-a-view-versus-a-copy\n",
      "  df_final['BiciMAD station'] = df_final['BiciMAD station'].apply(lambda x: x.split('-')[1])\n"
     ]
    },
    {
     "data": {
      "text/html": [
       "<div>\n",
       "<style scoped>\n",
       "    .dataframe tbody tr th:only-of-type {\n",
       "        vertical-align: middle;\n",
       "    }\n",
       "\n",
       "    .dataframe tbody tr th {\n",
       "        vertical-align: top;\n",
       "    }\n",
       "\n",
       "    .dataframe thead th {\n",
       "        text-align: right;\n",
       "    }\n",
       "</style>\n",
       "<table border=\"1\" class=\"dataframe\">\n",
       "  <thead>\n",
       "    <tr style=\"text-align: right;\">\n",
       "      <th></th>\n",
       "      <th>Place of Interest</th>\n",
       "      <th>Type of place</th>\n",
       "      <th>Place address</th>\n",
       "      <th>BiciMAD station</th>\n",
       "      <th>Station Location</th>\n",
       "    </tr>\n",
       "  </thead>\n",
       "  <tbody>\n",
       "    <tr>\n",
       "      <th>410370</th>\n",
       "      <td>A Neruda-El Ser alado</td>\n",
       "      <td>Monumento de la ciudad de Madrid</td>\n",
       "      <td>Gta José Luis Ozores 116</td>\n",
       "      <td>Concordia</td>\n",
       "      <td>Calle Arroyo del Olivar nº 6</td>\n",
       "    </tr>\n",
       "    <tr>\n",
       "      <th>408578</th>\n",
       "      <td>A Neruda-El Ser alado</td>\n",
       "      <td>Monumento de la ciudad de Madrid</td>\n",
       "      <td>Gta José Luis Ozores 116</td>\n",
       "      <td>Sierra Toledana</td>\n",
       "      <td>Camino de Valderribas nº 94</td>\n",
       "    </tr>\n",
       "    <tr>\n",
       "      <th>406786</th>\n",
       "      <td>A Neruda-El Ser alado</td>\n",
       "      <td>Monumento de la ciudad de Madrid</td>\n",
       "      <td>Gta José Luis Ozores 116</td>\n",
       "      <td>Doctor Lozano</td>\n",
       "      <td>Calle Sierra Toledana nº 33</td>\n",
       "    </tr>\n",
       "    <tr>\n",
       "      <th>324354</th>\n",
       "      <td>A Neruda-El Ser alado</td>\n",
       "      <td>Monumento de la ciudad de Madrid</td>\n",
       "      <td>Gta José Luis Ozores 116</td>\n",
       "      <td>Puente de Vallecas</td>\n",
       "      <td>Avenida de la Albufera nº 6</td>\n",
       "    </tr>\n",
       "    <tr>\n",
       "      <th>397826</th>\n",
       "      <td>A Neruda-El Ser alado</td>\n",
       "      <td>Monumento de la ciudad de Madrid</td>\n",
       "      <td>Gta José Luis Ozores 116</td>\n",
       "      <td>Plaza del Encuentro</td>\n",
       "      <td>Calle Arroyo de las Pilillas nº 6</td>\n",
       "    </tr>\n",
       "    <tr>\n",
       "      <th>...</th>\n",
       "      <td>...</td>\n",
       "      <td>...</td>\n",
       "      <td>...</td>\n",
       "      <td>...</td>\n",
       "      <td>...</td>\n",
       "    </tr>\n",
       "    <tr>\n",
       "      <th>392447</th>\n",
       "      <td>Órgano</td>\n",
       "      <td>Monumento de la ciudad de Madrid</td>\n",
       "      <td>C Castelló 77</td>\n",
       "      <td>Puerta del Ángel</td>\n",
       "      <td>Plaza Puerta del Ángel nº 4</td>\n",
       "    </tr>\n",
       "    <tr>\n",
       "      <th>394239</th>\n",
       "      <td>Órgano</td>\n",
       "      <td>Monumento de la ciudad de Madrid</td>\n",
       "      <td>C Castelló 77</td>\n",
       "      <td>Pedro Rico</td>\n",
       "      <td>Calle Pedro Rico nº 4</td>\n",
       "    </tr>\n",
       "    <tr>\n",
       "      <th>473087</th>\n",
       "      <td>Órgano</td>\n",
       "      <td>Monumento de la ciudad de Madrid</td>\n",
       "      <td>C Castelló 77</td>\n",
       "      <td>Facultad Derecho</td>\n",
       "      <td>Avenida Complutense nº 23</td>\n",
       "    </tr>\n",
       "    <tr>\n",
       "      <th>406783</th>\n",
       "      <td>Órgano</td>\n",
       "      <td>Monumento de la ciudad de Madrid</td>\n",
       "      <td>C Castelló 77</td>\n",
       "      <td>Caramuel</td>\n",
       "      <td>Calle Caramuel nº 51</td>\n",
       "    </tr>\n",
       "    <tr>\n",
       "      <th>401407</th>\n",
       "      <td>Órgano</td>\n",
       "      <td>Monumento de la ciudad de Madrid</td>\n",
       "      <td>C Castelló 77</td>\n",
       "      <td>Pavones</td>\n",
       "      <td>Calle Hacienda de Pavones nº 342</td>\n",
       "    </tr>\n",
       "  </tbody>\n",
       "</table>\n",
       "<p>473088 rows × 5 columns</p>\n",
       "</div>"
      ],
      "text/plain": [
       "            Place of Interest                     Type of place  \\\n",
       "410370  A Neruda-El Ser alado  Monumento de la ciudad de Madrid   \n",
       "408578  A Neruda-El Ser alado  Monumento de la ciudad de Madrid   \n",
       "406786  A Neruda-El Ser alado  Monumento de la ciudad de Madrid   \n",
       "324354  A Neruda-El Ser alado  Monumento de la ciudad de Madrid   \n",
       "397826  A Neruda-El Ser alado  Monumento de la ciudad de Madrid   \n",
       "...                       ...                               ...   \n",
       "392447                 Órgano  Monumento de la ciudad de Madrid   \n",
       "394239                 Órgano  Monumento de la ciudad de Madrid   \n",
       "473087                 Órgano  Monumento de la ciudad de Madrid   \n",
       "406783                 Órgano  Monumento de la ciudad de Madrid   \n",
       "401407                 Órgano  Monumento de la ciudad de Madrid   \n",
       "\n",
       "                   Place address       BiciMAD station  \\\n",
       "410370  Gta José Luis Ozores 116             Concordia   \n",
       "408578  Gta José Luis Ozores 116       Sierra Toledana   \n",
       "406786  Gta José Luis Ozores 116         Doctor Lozano   \n",
       "324354  Gta José Luis Ozores 116    Puente de Vallecas   \n",
       "397826  Gta José Luis Ozores 116   Plaza del Encuentro   \n",
       "...                          ...                   ...   \n",
       "392447             C Castelló 77      Puerta del Ángel   \n",
       "394239             C Castelló 77            Pedro Rico   \n",
       "473087             C Castelló 77      Facultad Derecho   \n",
       "406783             C Castelló 77              Caramuel   \n",
       "401407             C Castelló 77               Pavones   \n",
       "\n",
       "                         Station Location  \n",
       "410370       Calle Arroyo del Olivar nº 6  \n",
       "408578        Camino de Valderribas nº 94  \n",
       "406786        Calle Sierra Toledana nº 33  \n",
       "324354        Avenida de la Albufera nº 6  \n",
       "397826  Calle Arroyo de las Pilillas nº 6  \n",
       "...                                   ...  \n",
       "392447        Plaza Puerta del Ángel nº 4  \n",
       "394239              Calle Pedro Rico nº 4  \n",
       "473087          Avenida Complutense nº 23  \n",
       "406783               Calle Caramuel nº 51  \n",
       "401407   Calle Hacienda de Pavones nº 342  \n",
       "\n",
       "[473088 rows x 5 columns]"
      ]
     },
     "execution_count": 22,
     "metadata": {},
     "output_type": "execute_result"
    }
   ],
   "source": [
    "df_final['BiciMAD station'] = df_final['BiciMAD station'].apply(lambda x: x.split('-')[1])\n",
    "df_final"
   ]
  },
  {
   "cell_type": "code",
   "execution_count": null,
   "id": "f992233d",
   "metadata": {},
   "outputs": [],
   "source": [
    "df_final['Place of Interest'].unique()"
   ]
  },
  {
   "cell_type": "markdown",
   "id": "fe0e2779",
   "metadata": {},
   "source": [
    "### Opción 1 donde el usuario elige un punto de interés en concreto"
   ]
  },
  {
   "cell_type": "code",
   "execution_count": null,
   "id": "e6c0b714",
   "metadata": {},
   "outputs": [],
   "source": [
    "def select_point_of_interest(x, y): # en X entrará el nombre del punto de interés. La Y en número de estaciones cercanas.\n",
    "    is_poi = df_final.loc[:, 'Place of Interest'] == x # zz5 cambialo por el nombre de tu dataframe. El resto se puede quedar igual\n",
    "    df_poi = df_final.loc[is_poi]\n",
    "    df_poi = df_poi.reset_index(drop=True)\n",
    "    return df_poi.head(y) # si solo quieres el punto más cercano pon un 1 y sino 3 para los 3 más cercanos"
   ]
  },
  {
   "cell_type": "code",
   "execution_count": null,
   "id": "c4af4606",
   "metadata": {},
   "outputs": [],
   "source": [
    "select_point_of_interest('A las víctimas del Holocausto', 2)"
   ]
  },
  {
   "cell_type": "markdown",
   "id": "b2c5885c",
   "metadata": {},
   "source": [
    "### Opción 2 donde se muestran las estaciones más cercanas a cada punto de interés"
   ]
  },
  {
   "cell_type": "code",
   "execution_count": null,
   "id": "8cc0b3de",
   "metadata": {},
   "outputs": [],
   "source": [
    "test = df_final.loc[:, 'Place of Interest'] == 'A Neruda-El Ser alado'\n",
    "test1 = df_final.loc[test]\n",
    "test1 = test1.reset_index(drop=True)\n",
    "test1 = test1.head(0)\n",
    "test1"
   ]
  },
  {
   "cell_type": "code",
   "execution_count": null,
   "id": "efcc3ba7",
   "metadata": {},
   "outputs": [],
   "source": [
    "test_2 = df_final.loc[:, 'Place of Interest'] == 'A las víctimas del Holocausto'\n",
    "test2 = df_final.loc[test_2]\n",
    "test2 = test2.reset_index(drop=True)\n",
    "test2 = test2.head(1)\n",
    "test2"
   ]
  },
  {
   "cell_type": "code",
   "execution_count": null,
   "id": "577e69a0",
   "metadata": {
    "scrolled": false
   },
   "outputs": [],
   "source": [
    "ff = test1.append(test2, ignore_index=True)\n",
    "ff"
   ]
  },
  {
   "cell_type": "code",
   "execution_count": null,
   "id": "4d3d7470",
   "metadata": {},
   "outputs": [],
   "source": [
    "test_3 = df_final.loc[:, 'Place of Interest'] == 'A los Abuelos'\n",
    "test3 = df_final.loc[test_3]\n",
    "test3 = test3.reset_index(drop=True)\n",
    "test3 = test3.head(1)\n",
    "test3"
   ]
  },
  {
   "cell_type": "code",
   "execution_count": null,
   "id": "4d258753",
   "metadata": {},
   "outputs": [],
   "source": [
    "ff = ff.append(test3, ignore_index=True)\n",
    "ff"
   ]
  },
  {
   "cell_type": "code",
   "execution_count": null,
   "id": "0de2ebae",
   "metadata": {},
   "outputs": [],
   "source": [
    "poi_uniques = df_final['Place of Interest'].unique().tolist()\n",
    "#poi_uniques"
   ]
  },
  {
   "cell_type": "code",
   "execution_count": null,
   "id": "d9bd1ef7",
   "metadata": {},
   "outputs": [],
   "source": [
    "%%time\n",
    "\n",
    "for i in poi_uniques:\n",
    "    test_2 = df_final.loc[:, 'Place of Interest'] == i\n",
    "    test2 = df_final.loc[test_2]\n",
    "    test2 = test2.reset_index(drop=True)\n",
    "    test2 = test2.head(3)\n",
    "    test1 = test1.append(test2, ignore_index=True)\n",
    "test1.head()"
   ]
  },
  {
   "cell_type": "markdown",
   "id": "542b81b0",
   "metadata": {},
   "source": [
    "# 4º RESUMEN FINAL"
   ]
  },
  {
   "cell_type": "markdown",
   "id": "d3626dcc",
   "metadata": {},
   "source": [
    "## PIPELINE SECUENCIAL"
   ]
  },
  {
   "cell_type": "markdown",
   "id": "d2422745",
   "metadata": {},
   "source": [
    "### Conexción y manipulación de Data Frame final de bicis"
   ]
  },
  {
   "cell_type": "code",
   "execution_count": null,
   "id": "2eabb63a",
   "metadata": {},
   "outputs": [],
   "source": [
    "#ip #crear una función que le indique desde qué ip conectarse (clase=173.201.189.217 , casa=92.172.38.71)\n",
    "#connection_string = 'mysql+pymysql://ironhack_user:%Vq=c>G5@173.201.189.217/BiciMAD'\n",
    "#engine = create_engine(connection_string)\n",
    "#inspector = inspect(engine)\n",
    "#dfb = pd.read_sql_query(\"SELECT * FROM bicimad_stations\", engine)\n",
    "url_csv_bic= '../datasets/bicimad_stations.csv' # esto se tendría que desconectar si pudiéramos conectarnos en clase\n",
    "dfb = pd.read_csv(url_csv_bic, sep=',') # esto se tendría que desconectar si pudiéramos conectarnos en clase\n",
    "df_bic = dfb[['name', 'address', 'geometry.coordinates']]\n",
    "df_bic[['location.longitude.bic', 'location.latitude.bic']]= df_bic['geometry.coordinates'].str.split(',', expand=True)\n",
    "df_bic['location.longitude.bic'] = df_bic['location.longitude.bic'].apply(lambda x: float(x[1:]))\n",
    "df_bic['location.latitude.bic'] = df_bic['location.latitude.bic'].apply(lambda x: float(x[:-1]))\n",
    "df_bic = df_bic[['name', 'address', 'location.latitude.bic', 'location.longitude.bic']]"
   ]
  },
  {
   "cell_type": "markdown",
   "id": "f7e80f90",
   "metadata": {},
   "source": [
    "### Conexión y manipulación de Data Frame Monumentos de Madrid"
   ]
  },
  {
   "cell_type": "code",
   "execution_count": null,
   "id": "5647f4ce",
   "metadata": {},
   "outputs": [],
   "source": [
    "endpoint = 'https://datos.madrid.es/egob'\n",
    "url = '/catalogo/300356-0-monumentos-ciudad-madrid.json'\n",
    "response = requests.get(endpoint + url)\n",
    "json_data = response.json()\n",
    "dfm = pd.DataFrame(pd.json_normalize(json_data['@graph']))\n",
    "df_monu = dfm[['title', 'address.street-address', 'location.latitude' , 'location.longitude']]\n",
    "df_monu = df_monu.dropna()"
   ]
  },
  {
   "cell_type": "markdown",
   "id": "5749f82d",
   "metadata": {},
   "source": [
    "### Merge entre ambos DataFrames"
   ]
  },
  {
   "cell_type": "code",
   "execution_count": null,
   "id": "b2150c69",
   "metadata": {},
   "outputs": [],
   "source": [
    "df_bic['key'] = 0\n",
    "df_monu['key'] = 0\n",
    "df_pre = df_bic.merge(df_monu, on='key', how='left')"
   ]
  },
  {
   "cell_type": "markdown",
   "id": "fbae9834",
   "metadata": {},
   "source": [
    "### Aplicación de mercator a todos los valores posibles y creación de CSV Final para realizar las consultas"
   ]
  },
  {
   "cell_type": "code",
   "execution_count": null,
   "id": "26e84732",
   "metadata": {},
   "outputs": [],
   "source": [
    "#df_pre['Distancia'] = df_pre.apply(lambda x: distance_meters(x['location.latitude'], x['location.longitude'], \n",
    "                                                            # x['location.latitude.bic'], x['location.longitude.bic']), axis=1)\n",
    "#data = df_pre.to_csv('../datasets/df.csv', index=False)"
   ]
  },
  {
   "cell_type": "markdown",
   "id": "ac75de52",
   "metadata": {},
   "source": [
    "### Manipulación de Dataframe Final para la obtención de los resultados requeridos"
   ]
  },
  {
   "cell_type": "code",
   "execution_count": null,
   "id": "b056b47c",
   "metadata": {},
   "outputs": [],
   "source": [
    "url_df_pre = '../datasets/df.csv'\n",
    "df_def = pd.read_csv(url_df_pre, sep=',')\n",
    "zz5 = df_def.sort_values(by = ['title', 'Distancia']).rename(columns={'title':'Place of Interest', \n",
    "                                                                      'address.street-address':'Place address',\n",
    "                                                                     'name':'BiciMAD station',\n",
    "                                                                      'address':'Station Location'})\n",
    "zz5['Type of place'] = np.nan\n",
    "zz5['Type of place'] = zz5['Type of place'].fillna('Monumento de la ciudad de Madrid')\n",
    "df_final = zz5[['Place of Interest', 'Type of place', 'Place address', 'BiciMAD station', 'Station Location']]\n",
    "df_final['BiciMAD station'] = df_final['BiciMAD station'].apply(lambda x: x.split('-')[1])"
   ]
  },
  {
   "cell_type": "markdown",
   "id": "a9d0d53b",
   "metadata": {},
   "source": [
    "### Opción 1 donde el usuario indica un lugar de interés específico"
   ]
  },
  {
   "cell_type": "code",
   "execution_count": null,
   "id": "79147104",
   "metadata": {},
   "outputs": [],
   "source": [
    "is_poi = df_final.loc[:, 'Place of Interest'] == 'A los Abuelos'\n",
    "df_poi = df_final.loc[is_poi]\n",
    "df_poi = df_poi.reset_index(drop=True)\n",
    "df_poi.head(1)\n",
    "csv_poi = df_poi.head(1).to_csv('../datasets/specific_point_of_interest.csv', index=False)"
   ]
  },
  {
   "cell_type": "markdown",
   "id": "d302d7b7",
   "metadata": {},
   "source": [
    "### Opción 2 donde el usuario indica listado de todos los puntos de interés con su estación más cercana"
   ]
  },
  {
   "cell_type": "code",
   "execution_count": null,
   "id": "27f8ea17",
   "metadata": {},
   "outputs": [],
   "source": [
    "poi_uniques = df_final['Place of Interest'].unique().tolist()\n",
    "test = df_final.loc[:, 'Place of Interest'] == 'A Neruda-El Ser alado'\n",
    "test1 = df_final.loc[test]\n",
    "test1 = test1.reset_index(drop=True)\n",
    "test1 = test1.head(0)\n",
    "for i in poi_uniques:\n",
    "    test_2 = df_final.loc[:, 'Place of Interest'] == i\n",
    "    test2 = df_final.loc[test_2]\n",
    "    test2 = test2.reset_index(drop=True)\n",
    "    test2 = test2.head(3)\n",
    "    test1 = test1.append(test2, ignore_index=True)\n",
    "test1.head()\n",
    "csv_full = test1.to_csv('../datasets/all_points_of_interests.csv', index=False)"
   ]
  },
  {
   "cell_type": "markdown",
   "id": "000937fe",
   "metadata": {},
   "source": [
    "## PIPELINE FUNCIONAL"
   ]
  },
  {
   "cell_type": "markdown",
   "id": "68524ab9",
   "metadata": {},
   "source": [
    "### Acquisition"
   ]
  },
  {
   "cell_type": "code",
   "execution_count": 40,
   "id": "d0226883",
   "metadata": {},
   "outputs": [],
   "source": [
    "#las dos opciones serían 'mysql' o 'csv' y se podría cambiar el path, query e ip (casa = '92.172.38.71')\n",
    "def connec_bic(bbdd, path='../datasets/bicimad_stations.csv', query=\"SELECT * FROM bicimad_stations\", ip='173.201.189.217', \n",
    "              db='/BiciMAD', root='mysql+pymysql://ironhack_user:', pss='%Vq=c>G5@'): \n",
    "    if bbdd == 'mysql':\n",
    "        connection_string = root+pss+ip+db\n",
    "        engine = create_engine(connection_string)\n",
    "        inspector = inspect(engine)\n",
    "        dfb = pd.read_sql_query(query, engine)\n",
    "        return dfb\n",
    "    elif bbdd == 'csv':\n",
    "        dfb = pd.read_csv(path, sep=',')\n",
    "        return dfb\n",
    "    else:\n",
    "        return 'Por el momento las dos únicas opciones son: mysql o csv'"
   ]
  },
  {
   "cell_type": "code",
   "execution_count": 24,
   "id": "1c5fbdb5",
   "metadata": {},
   "outputs": [],
   "source": [
    "def connec_mad(endpoint = 'https://datos.madrid.es/egob', url = '/catalogo/300356-0-monumentos-ciudad-madrid.json'):    \n",
    "    response = requests.get(endpoint + url)\n",
    "    json_data = response.json()\n",
    "    dfm = pd.DataFrame(pd.json_normalize(json_data['@graph']))\n",
    "    return dfm"
   ]
  },
  {
   "cell_type": "markdown",
   "id": "4163ea18",
   "metadata": {},
   "source": [
    "### Analysis por separado"
   ]
  },
  {
   "cell_type": "code",
   "execution_count": 25,
   "id": "98cae27a",
   "metadata": {},
   "outputs": [],
   "source": [
    "def analysis1_bic(dfb_ac):\n",
    "    df_bic = dfb_ac[['name', 'address', 'geometry.coordinates']]\n",
    "    df_bic[['location.longitude.bic', 'location.latitude.bic']]= df_bic['geometry.coordinates'].str.split(',', expand=True)\n",
    "    df_bic['location.longitude.bic'] = df_bic['location.longitude.bic'].apply(lambda x: float(x[1:]))\n",
    "    df_bic['location.latitude.bic'] = df_bic['location.latitude.bic'].apply(lambda x: float(x[:-1]))\n",
    "    df_bic = df_bic[['name', 'address', 'location.latitude.bic', 'location.longitude.bic']]\n",
    "    return df_bic"
   ]
  },
  {
   "cell_type": "code",
   "execution_count": 26,
   "id": "6307914a",
   "metadata": {},
   "outputs": [],
   "source": [
    "def analysis1_monu(dfm_ac):\n",
    "    df_monu = dfm_ac[['title', 'address.street-address', 'location.latitude' , 'location.longitude']]\n",
    "    df_monu = df_monu.dropna()\n",
    "    return df_monu"
   ]
  },
  {
   "cell_type": "markdown",
   "id": "e03173c4",
   "metadata": {},
   "source": [
    "### Merge y guardado total distancias"
   ]
  },
  {
   "cell_type": "code",
   "execution_count": 27,
   "id": "9859fbe7",
   "metadata": {},
   "outputs": [],
   "source": [
    "def merge_df(df_bic_an, df_monu_an):\n",
    "    df_bic_an['key'] = 0\n",
    "    df_monu_an['key'] = 0\n",
    "    df_pre = df_bic_an.merge(df_monu_an, on='key', how='left')\n",
    "    return df_pre"
   ]
  },
  {
   "cell_type": "code",
   "execution_count": 29,
   "id": "78bca31a",
   "metadata": {},
   "outputs": [],
   "source": [
    "def save_df_dis(df_pre_mer):\n",
    "    df_pre_mer['Distancia'] = df_pre_mer.apply(lambda x: distance_meters(x['location.latitude'], x['location.longitude'], \n",
    "                                                                 x['location.latitude.bic'], \n",
    "                                                                 x['location.longitude.bic']), axis=1)\n",
    "    data = df_pre_mer.to_csv('../datasets/df.csv', index=False)\n",
    "    return data"
   ]
  },
  {
   "cell_type": "markdown",
   "id": "45039496",
   "metadata": {},
   "source": [
    "### Manipulación DF definitivo"
   ]
  },
  {
   "cell_type": "code",
   "execution_count": 30,
   "id": "365b1882",
   "metadata": {},
   "outputs": [],
   "source": [
    "def post_accq(url='../datasets/df.csv'):\n",
    "    df_def = pd.read_csv(url, sep=',')\n",
    "    return df_def"
   ]
  },
  {
   "cell_type": "code",
   "execution_count": 31,
   "id": "1ec23050",
   "metadata": {},
   "outputs": [],
   "source": [
    "def reorganize_clean (df, head=['title', 'Distancia']):\n",
    "    zz5 = df.sort_values(by = head).rename(columns={'title':'Place of Interest', 'address.street-address':'Place address',\n",
    "                                                    'name':'BiciMAD station','address':'Station Location'})\n",
    "    zz5['Type of place'] = np.nan\n",
    "    zz5['Type of place'] = zz5['Type of place'].fillna('Monumento de la ciudad de Madrid')\n",
    "    df_final = zz5[['Place of Interest', 'Type of place', 'Place address', 'BiciMAD station', 'Station Location']]\n",
    "    df_final['BiciMAD station'] = df_final['BiciMAD station'].apply(lambda x: x.split('-')[1])\n",
    "    return df_final"
   ]
  },
  {
   "cell_type": "markdown",
   "id": "a74db530",
   "metadata": {},
   "source": [
    "### Reporting"
   ]
  },
  {
   "cell_type": "code",
   "execution_count": 32,
   "id": "cb9372e0",
   "metadata": {},
   "outputs": [],
   "source": [
    "def point_interest(df_fin, ask, path='../datasets/specific_point_of_interest.csv'):\n",
    "    is_poi = df_fin.loc[:, 'Place of Interest'] == ask\n",
    "    df_poi = df_fin.loc[is_poi]\n",
    "    df_poi = df_poi.reset_index(drop=True)\n",
    "    csv_poi = df_poi.head(1).to_csv(path, index=False)\n",
    "    return df_poi.head(1)"
   ]
  },
  {
   "cell_type": "code",
   "execution_count": 33,
   "id": "2536aeb6",
   "metadata": {},
   "outputs": [],
   "source": [
    "def all_monuments(df_fin, bics=0, path='../datasets/all_points_of_interests.csv'):\n",
    "    poi_uniques = df_fin['Place of Interest'].unique().tolist()\n",
    "    df = df_fin.loc[:, 'Place of Interest'] == 'A Neruda-El Ser alado'\n",
    "    df1 = df_fin.loc[df]\n",
    "    df1 = df1.reset_index(drop=True)\n",
    "    df1 = df1.head(0)\n",
    "    for i in poi_uniques:\n",
    "        df_2 = df_fin.loc[:, 'Place of Interest'] == i\n",
    "        df2 = df_fin.loc[df_2]\n",
    "        df2 = df2.reset_index(drop=True)\n",
    "        df2 = df2.head(bics)\n",
    "        df1 = df1.append(df2, ignore_index=True)\n",
    "    csv_full = test1.to_csv(path, index=False)\n",
    "    return df1.head()"
   ]
  },
  {
   "cell_type": "code",
   "execution_count": null,
   "id": "6469ae78",
   "metadata": {},
   "outputs": [],
   "source": []
  }
 ],
 "metadata": {
  "kernelspec": {
   "display_name": "Python [conda env:.conda-proyecto_01]",
   "language": "python",
   "name": "conda-env-.conda-proyecto_01-py"
  },
  "language_info": {
   "codemirror_mode": {
    "name": "ipython",
    "version": 3
   },
   "file_extension": ".py",
   "mimetype": "text/x-python",
   "name": "python",
   "nbconvert_exporter": "python",
   "pygments_lexer": "ipython3",
   "version": "3.9.12"
  }
 },
 "nbformat": 4,
 "nbformat_minor": 5
}
