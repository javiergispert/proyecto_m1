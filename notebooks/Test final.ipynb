{
 "cells": [
  {
   "cell_type": "code",
   "execution_count": 1,
   "id": "eb31345f",
   "metadata": {},
   "outputs": [],
   "source": [
    "import sqlalchemy\n",
    "from sqlalchemy import create_engine\n",
    "from sqlalchemy import inspect\n",
    "import pandas as pd\n",
    "import requests\n",
    "import numpy as np"
   ]
  },
  {
   "cell_type": "code",
   "execution_count": 26,
   "id": "33396e53",
   "metadata": {},
   "outputs": [
    {
     "name": "stderr",
     "output_type": "stream",
     "text": [
      "<timed exec>:4: SettingWithCopyWarning: \n",
      "A value is trying to be set on a copy of a slice from a DataFrame.\n",
      "Try using .loc[row_indexer,col_indexer] = value instead\n",
      "\n",
      "See the caveats in the documentation: https://pandas.pydata.org/pandas-docs/stable/user_guide/indexing.html#returning-a-view-versus-a-copy\n",
      "<timed exec>:4: SettingWithCopyWarning: \n",
      "A value is trying to be set on a copy of a slice from a DataFrame.\n",
      "Try using .loc[row_indexer,col_indexer] = value instead\n",
      "\n",
      "See the caveats in the documentation: https://pandas.pydata.org/pandas-docs/stable/user_guide/indexing.html#returning-a-view-versus-a-copy\n",
      "<timed exec>:5: SettingWithCopyWarning: \n",
      "A value is trying to be set on a copy of a slice from a DataFrame.\n",
      "Try using .loc[row_indexer,col_indexer] = value instead\n",
      "\n",
      "See the caveats in the documentation: https://pandas.pydata.org/pandas-docs/stable/user_guide/indexing.html#returning-a-view-versus-a-copy\n",
      "<timed exec>:6: SettingWithCopyWarning: \n",
      "A value is trying to be set on a copy of a slice from a DataFrame.\n",
      "Try using .loc[row_indexer,col_indexer] = value instead\n",
      "\n",
      "See the caveats in the documentation: https://pandas.pydata.org/pandas-docs/stable/user_guide/indexing.html#returning-a-view-versus-a-copy\n"
     ]
    },
    {
     "name": "stdout",
     "output_type": "stream",
     "text": [
      "  Place of Interest                     Type of place Place address  \\\n",
      "0     A los Abuelos  Monumento de la ciudad de Madrid     C Alicún    \n",
      "\n",
      "    BiciMAD station               Station Location  \n",
      "0   Manuel Caldeiro  Paseo de la Castellana nº 298  \n",
      "CPU times: total: 1.78 s\n",
      "Wall time: 1.99 s\n"
     ]
    },
    {
     "name": "stderr",
     "output_type": "stream",
     "text": [
      "<timed exec>:27: SettingWithCopyWarning: \n",
      "A value is trying to be set on a copy of a slice from a DataFrame.\n",
      "Try using .loc[row_indexer,col_indexer] = value instead\n",
      "\n",
      "See the caveats in the documentation: https://pandas.pydata.org/pandas-docs/stable/user_guide/indexing.html#returning-a-view-versus-a-copy\n"
     ]
    }
   ],
   "source": [
    "%%time\n",
    "\n",
    "url_csv_bic= '../datasets/bicimad_stations.csv' # esto se tendría que desconectar si pudiéramos conectarnos en clase\n",
    "dfb = pd.read_csv(url_csv_bic, sep=',') # esto se tendría que desconectar si pudiéramos conectarnos en clase\n",
    "df_bic = dfb[['name', 'address', 'geometry.coordinates']]\n",
    "df_bic[['location.longitude.bic', 'location.latitude.bic']]= df_bic['geometry.coordinates'].str.split(',', expand=True)\n",
    "df_bic['location.longitude.bic'] = df_bic['location.longitude.bic'].apply(lambda x: float(x[1:]))\n",
    "df_bic['location.latitude.bic'] = df_bic['location.latitude.bic'].apply(lambda x: float(x[:-1]))\n",
    "df_bic = df_bic[['name', 'address', 'location.latitude.bic', 'location.longitude.bic']]\n",
    "endpoint = 'https://datos.madrid.es/egob'\n",
    "url = '/catalogo/300356-0-monumentos-ciudad-madrid.json'\n",
    "response = requests.get(endpoint + url)\n",
    "json_data = response.json()\n",
    "dfm = pd.DataFrame(pd.json_normalize(json_data['@graph']))\n",
    "df_monu = dfm[['title', 'address.street-address', 'location.latitude' , 'location.longitude']]\n",
    "df_monu = df_monu.dropna()\n",
    "df_bic['key'] = 0\n",
    "df_monu['key'] = 0\n",
    "df_pre = df_bic.merge(df_monu, on='key', how='left')\n",
    "url_df_pre = '../datasets/df.csv'\n",
    "df_def = pd.read_csv(url_df_pre, sep=',')\n",
    "zz5 = df_def.sort_values(by = ['title', 'Distancia']).rename(columns={'title':'Place of Interest', \n",
    "                                                                      'address.street-address':'Place address',\n",
    "                                                                     'name':'BiciMAD station',\n",
    "                                                                      'address':'Station Location'})\n",
    "zz5['Type of place'] = np.nan\n",
    "zz5['Type of place'] = zz5['Type of place'].fillna('Monumento de la ciudad de Madrid')\n",
    "df_final = zz5[['Place of Interest', 'Type of place', 'Place address', 'BiciMAD station', 'Station Location']]\n",
    "df_final['BiciMAD station'] = df_final['BiciMAD station'].apply(lambda x: x.split('-')[1])\n",
    "is_poi = df_final.loc[:, 'Place of Interest'] == 'A los Abuelos'\n",
    "df_poi = df_final.loc[is_poi]\n",
    "df_poi = df_poi.reset_index(drop=True)\n",
    "print(df_poi.head(1))\n",
    "csv_poi = df_poi.head(1).to_csv('../datasets/specific_point_of_interest.csv', index=False)\n",
    "poi_uniques = df_final['Place of Interest'].unique().tolist()\n",
    "test = df_final.loc[:, 'Place of Interest'] == 'A Neruda-El Ser alado'\n",
    "test1 = df_final.loc[test]\n",
    "test1 = test1.reset_index(drop=True)\n",
    "test1 = test1.head(0)\n",
    "for i in poi_uniques:\n",
    "    test_2 = df_final.loc[:, 'Place of Interest'] == i\n",
    "    test2 = df_final.loc[test_2]\n",
    "    test2 = test2.reset_index(drop=True)\n",
    "    test2 = test2.head(1)\n",
    "    test1 = test1.append(test2, ignore_index=True)\n",
    "print(test1.head())\n",
    "csv_full = test1.to_csv('../datasets/all_points_of_interests.csv', index=False)"
   ]
  }
 ],
 "metadata": {
  "kernelspec": {
   "display_name": "Python [conda env:.conda-proyecto_01]",
   "language": "python",
   "name": "conda-env-.conda-proyecto_01-py"
  },
  "language_info": {
   "codemirror_mode": {
    "name": "ipython",
    "version": 3
   },
   "file_extension": ".py",
   "mimetype": "text/x-python",
   "name": "python",
   "nbconvert_exporter": "python",
   "pygments_lexer": "ipython3",
   "version": "3.9.12"
  }
 },
 "nbformat": 4,
 "nbformat_minor": 5
}
